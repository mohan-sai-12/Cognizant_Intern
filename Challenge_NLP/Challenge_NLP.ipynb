{
 "cells": [
  {
   "cell_type": "markdown",
   "metadata": {},
   "source": [
    "# NAME :- MOHAN SAI KOTHAPALLI\n",
    "# EMP ID :- 2112951\n",
    "# COHORT CODE :- GN22CDBDS001"
   ]
  },
  {
   "cell_type": "markdown",
   "metadata": {},
   "source": [
    "## ASSIGNMENT ON REGEX"
   ]
  },
  {
   "cell_type": "markdown",
   "metadata": {},
   "source": [
    "Design a python program to accept a file name through command line arguments.\n",
    "\n",
    "Parse this file to perform the following:\n",
    "\n",
    "1. Print all currencies in text, Accepted- $, ₹, £ \n",
    "\n",
    "2. Print all date times in the text- dd/mm/yyyy, dd/mm/yy, mm/dd/yyyy, mm/dd/yy\n",
    "\n",
    "3. Print all cardinilities and orders- 4th, fifth, sixth, 1st, 2nd, nineteenth, fifth\n",
    "\n",
    "4. Print all 4 letter words that begin with vowels"
   ]
  },
  {
   "cell_type": "markdown",
   "metadata": {},
   "source": [
    "### STEP 0 :- IMPORTING LIBRARIES"
   ]
  },
  {
   "cell_type": "code",
   "execution_count": null,
   "metadata": {},
   "outputs": [],
   "source": [
    "import re\n",
    "import sys"
   ]
  },
  {
   "cell_type": "markdown",
   "metadata": {},
   "source": [
    "# DATA 1\n",
    "### STEP 1 :- Opening File DATA 1\n",
    "#### This file contains some random text with currency's  and dates and some orders."
   ]
  },
  {
   "cell_type": "code",
   "execution_count": null,
   "metadata": {},
   "outputs": [],
   "source": [
    "f=open(sys.argv[1])"
   ]
  },
  {
   "cell_type": "code",
   "execution_count": null,
   "metadata": {},
   "outputs": [],
   "source": [
    "with open(sys.argv[1],'r',encoding='utf-8') as f:\n",
    "    data=f.readline()\n",
    "data"
   ]
  },
  {
   "cell_type": "markdown",
   "metadata": {},
   "source": [
    "## The above 'readline()' will read a single line from the file. Line means when you press \"enter\" in the keyboard will typing your data that is considered as new line. Without pressing you keep on typing then it is considered as single line. i.e '\\n'"
   ]
  },
  {
   "cell_type": "code",
   "execution_count": null,
   "metadata": {},
   "outputs": [],
   "source": [
    "with open(sys.argv[1],'r',encoding='utf-8') as f:\n",
    "    data=f.readlines()\n",
    "data"
   ]
  },
  {
   "cell_type": "markdown",
   "metadata": {},
   "source": [
    "## The above 'readlines()' will read all lines from the file as list. Each line as an element in list."
   ]
  },
  {
   "cell_type": "code",
   "execution_count": null,
   "metadata": {},
   "outputs": [],
   "source": [
    "with open(sys.argv[1],'r',encoding='utf-8') as f:\n",
    "    data=f.read()\n",
    "data"
   ]
  },
  {
   "cell_type": "markdown",
   "metadata": {},
   "source": [
    "## The above 'read()' will read all lines from the file as single para."
   ]
  },
  {
   "cell_type": "markdown",
   "metadata": {},
   "source": [
    "### STEP 2:- FINDING CURRENCY'S INCLUDING THE AMOUNT IN TEXT"
   ]
  },
  {
   "cell_type": "code",
   "execution_count": null,
   "metadata": {},
   "outputs": [],
   "source": [
    "x=re.findall(r\"(\\d*?\\.?\\d+ ?[$₹£])\",data)"
   ]
  },
  {
   "cell_type": "code",
   "execution_count": null,
   "metadata": {},
   "outputs": [],
   "source": [
    "print(x)"
   ]
  },
  {
   "cell_type": "markdown",
   "metadata": {},
   "source": [
    "### FINDING ONLY THE SYMBOLS OF CURRENCY IN TEXT"
   ]
  },
  {
   "cell_type": "code",
   "execution_count": null,
   "metadata": {},
   "outputs": [],
   "source": [
    "curr=re.findall(\"([$₹£])\",data)"
   ]
  },
  {
   "cell_type": "code",
   "execution_count": null,
   "metadata": {},
   "outputs": [],
   "source": [
    "print(\"Total Number Of Currency Symbols In the TEXT DATA are : \",len(curr))\n",
    "print(f\"Types Of Currency Symbols In the TEXT DATA are : \",len(set(curr)),\" \",set(curr))\n",
    "print(curr)"
   ]
  },
  {
   "cell_type": "markdown",
   "metadata": {},
   "source": [
    "### STEP 3 :-PRINTING ALL THE FORMATES OF DATES IN THE TEXT "
   ]
  },
  {
   "cell_type": "code",
   "execution_count": null,
   "metadata": {},
   "outputs": [],
   "source": [
    "dates=re.findall(r\"((0[1-9]|1[0-2])/(0[1-9]|[12][0-9]|3[01])/(\\d{4})\\b)\",data)\n",
    "print(\"The Number of dates in the format of 'mm/dd/yyyy' are : \",len(dates))\n",
    "for i in range(len(dates)):\n",
    "    print(dates[i][0],end='  ')\n",
    "print()\n",
    "dates=re.findall(r\"((0[1-9]|[12][0-9]|3[01])/(0[1-9]|1[0-2])/(\\d{4})\\b)\",data)\n",
    "print(\"The Number of dates in the format of 'dd/mm/yyyy' are : \",len(dates))\n",
    "for i in range(len(dates)):\n",
    "    print(dates[i][0],end='  ')\n",
    "print()\n",
    "dates=re.findall(r\"((0[1-9]|[12][0-9]|3[01])/(0[1-9]|1[0-2])/(\\d{2})\\b)\",data)\n",
    "print(\"The Number of dates in the format of 'dd/mm/yy' are : \",len(dates))\n",
    "for i in range(len(dates)):\n",
    "    print(dates[i][0],end='  ')\n",
    "print()\n",
    "dates=re.findall(r\"((0[1-9]|1[0-2])/(0[1-9]|[12][0-9]|3[01])/(\\d{2})\\b)\",data)\n",
    "print(\"The Number of dates in the format of 'mm/dd/yy' are : \",len(dates))\n",
    "for i in range(len(dates)):\n",
    "    print(dates[i][0],end='  ')\n",
    "print()"
   ]
  },
  {
   "cell_type": "markdown",
   "metadata": {},
   "source": [
    "### STEP 4 :-  PRINTING ALL CARDINILITIES AND ORDERS FROM THE TEXT"
   ]
  },
  {
   "cell_type": "code",
   "execution_count": null,
   "metadata": {},
   "outputs": [],
   "source": [
    "order=[]\n",
    "x=re.findall(r\"((first|second|third|sixth)|(thir[a-z]+(th|st|nd))|(fou[a-z]+(th|rd|st|nd))|(fif[a-z]+(th|st|nd|rd))|(fi[a-z]+th)|(six[a-z]+(th|st|nd|rd))|(sev[a-z]+(th|st|nd|rd))|(eig[a-z]+(th|st|nd|rd))|(nine[a-z]+(th|st|nd|rd))|(ten[a-z]+?(th|st|nd|rd))|(ele[a-z]+th)|(twe[a-z]+(th|st|nd|rd))|(hun[a-z]+(th|st|rd)))\",data)\n",
    "for i in range(len(x)):\n",
    "    if(x[i][0] not in order):\n",
    "        order.append(x[i][0])\n",
    "#print(order)\n",
    "orders=[]\n",
    "x1=re.findall(r\"([0-9]+(th|st|nd|rd))\",data)\n",
    "for i in range(len(x1)):\n",
    "    if(x1[i][0] not in orders):\n",
    "        orders.append(x1[i][0])\n",
    "#print(orders)\n",
    "if order or orders:\n",
    "    print(order+orders)\n",
    "else:\n",
    "    print(\"No CARDINILITIES AND ORDERS FOUND IN THE TEXT\")"
   ]
  },
  {
   "cell_type": "markdown",
   "metadata": {},
   "source": [
    "### STEP 5 :- PRINTING ALL 4 LETTER WORDS STARTING WITH VOWELS FROM THE TEXT "
   ]
  },
  {
   "cell_type": "code",
   "execution_count": null,
   "metadata": {},
   "outputs": [],
   "source": [
    "four=re.findall(r\"(\\b(a|e|i|o|u|A|E|I|O|U)[a-zA-Z]{3}\\b)\",data)\n",
    "fours=[]\n",
    "for i in range(len(four)):\n",
    "    fours.append(four[i][0])\n",
    "print(fours)"
   ]
  },
  {
   "cell_type": "markdown",
   "metadata": {},
   "source": [
    "## WE WILL REPEAT THE ABOVE STEPS FOR THE REMAINING DATASETS"
   ]
  },
  {
   "cell_type": "markdown",
   "metadata": {},
   "source": [
    "# DATA 2"
   ]
  },
  {
   "cell_type": "markdown",
   "metadata": {},
   "source": [
    "### STEP 1 :- Opening File DATA 2\n",
    "#### This TEXT file contains a story and some values of currency's."
   ]
  },
  {
   "cell_type": "code",
   "execution_count": null,
   "metadata": {},
   "outputs": [],
   "source": [
    "f=open(sys.argv[2])"
   ]
  },
  {
   "cell_type": "code",
   "execution_count": null,
   "metadata": {},
   "outputs": [],
   "source": [
    "with open(sys.argv[2],'r',encoding='utf-8') as f:\n",
    "    data=f.readline()\n",
    "data"
   ]
  },
  {
   "cell_type": "code",
   "execution_count": null,
   "metadata": {},
   "outputs": [],
   "source": [
    "with open(sys.argv[2],'r',encoding='utf-8') as f:\n",
    "    data=f.readlines()\n",
    "data"
   ]
  },
  {
   "cell_type": "code",
   "execution_count": null,
   "metadata": {},
   "outputs": [],
   "source": [
    "with open(sys.argv[2],'r',encoding='utf-8') as f:\n",
    "    data=f.read()\n",
    "data"
   ]
  },
  {
   "cell_type": "markdown",
   "metadata": {},
   "source": [
    "### STEP 2:- FINDING CURRENCY'S INCLUDING THE AMOUNT IN TEXT"
   ]
  },
  {
   "cell_type": "code",
   "execution_count": null,
   "metadata": {},
   "outputs": [],
   "source": [
    "x=re.findall(r\"(\\d*?\\.?\\d+ ?[$₹£])\",data)"
   ]
  },
  {
   "cell_type": "code",
   "execution_count": null,
   "metadata": {},
   "outputs": [],
   "source": [
    "x"
   ]
  },
  {
   "cell_type": "markdown",
   "metadata": {},
   "source": [
    "### FINDING ONLY THE SYMBOLS OF CURRENCY IN TEXT"
   ]
  },
  {
   "cell_type": "code",
   "execution_count": null,
   "metadata": {},
   "outputs": [],
   "source": [
    "curr=re.findall(\"([$₹£])\",data)"
   ]
  },
  {
   "cell_type": "code",
   "execution_count": null,
   "metadata": {},
   "outputs": [],
   "source": [
    "print(\"Total Number Of Currency Symbols In the TEXT DATA are : \",len(curr))\n",
    "print(f\"Types Of Currency Symbols In the TEXT DATA are : \",len(set(curr)),\" \",set(curr))\n",
    "print(curr)"
   ]
  },
  {
   "cell_type": "markdown",
   "metadata": {},
   "source": [
    "### STEP 3 :-PRINTING ALL THE FORMATES OF DATES IN THE TEXT "
   ]
  },
  {
   "cell_type": "code",
   "execution_count": null,
   "metadata": {},
   "outputs": [],
   "source": [
    "dates=re.findall(r\"((0[1-9]|1[0-2])/(0[1-9]|[12][0-9]|3[01])/(\\d{4})\\b)\",data)\n",
    "print(\"The Number of dates in the format of 'mm/dd/yyyy' are : \",len(dates))\n",
    "for i in range(len(dates)):\n",
    "    print(dates[i][0],end='  ')\n",
    "print()\n",
    "dates=re.findall(r\"((0[1-9]|[12][0-9]|3[01])/(0[1-9]|1[0-2])/(\\d{4})\\b)\",data)\n",
    "print(\"The Number of dates in the format of 'dd/mm/yyyy' are : \",len(dates))\n",
    "for i in range(len(dates)):\n",
    "    print(dates[i][0],end='  ')\n",
    "print()\n",
    "dates=re.findall(r\"((0[1-9]|[12][0-9]|3[01])/(0[1-9]|1[0-2])/(\\d{2})\\b)\",data)\n",
    "print(\"The Number of dates in the format of 'dd/mm/yy' are : \",len(dates))\n",
    "for i in range(len(dates)):\n",
    "    print(dates[i][0],end='  ')\n",
    "print()\n",
    "dates=re.findall(r\"((0[1-9]|1[0-2])/(0[1-9]|[12][0-9]|3[01])/(\\d{2})\\b)\",data)\n",
    "print(\"The Number of dates in the format of 'mm/dd/yy' are : \",len(dates))\n",
    "for i in range(len(dates)):\n",
    "    print(dates[i][0],end='  ')\n",
    "print()"
   ]
  },
  {
   "cell_type": "markdown",
   "metadata": {},
   "source": [
    "### STEP 4 :-  PRINTING ALL CARDINILITIES AND ORDERS FROM THE TEXT"
   ]
  },
  {
   "cell_type": "code",
   "execution_count": null,
   "metadata": {},
   "outputs": [],
   "source": [
    "order=[]\n",
    "x=re.findall(r\"((first|second|third|sixth)|(thir[a-z]+(th|st|nd))|(fou[a-z]+(th|rd|st|nd))|(fif[a-z]+(th|st|nd|rd))|(fi[a-z]+th)|(six[a-z]+(th|st|nd|rd))|(sev[a-z]+(th|st|nd|rd))|(eig[a-z]+(th|st|nd|rd))|(nine[a-z]+(th|st|nd|rd))|(ten[a-z]+?(th|st|nd|rd))|(ele[a-z]+th)|(twe[a-z]+(th|st|nd|rd))|(hun[a-z]+(th|st|rd)))\",data)\n",
    "for i in range(len(x)):\n",
    "    if(x[i][0] not in order):\n",
    "        order.append(x[i][0])\n",
    "#print(order)\n",
    "orders=[]\n",
    "x1=re.findall(r\"([0-9]+(th|st|nd|rd))\",data)\n",
    "for i in range(len(x1)):\n",
    "    if(x1[i][0] not in orders):\n",
    "        orders.append(x1[i][0])\n",
    "#print(orders)\n",
    "if order or orders:\n",
    "    print(order+orders)\n",
    "else:\n",
    "    print(\"No CARDINILITIES AND ORDERS FOUND IN THE TEXT\")"
   ]
  },
  {
   "cell_type": "markdown",
   "metadata": {},
   "source": [
    "### STEP 5 :- PRINTING ALL 4 LETTER WORDS STARTING WITH VOWELS FROM THE TEXT "
   ]
  },
  {
   "cell_type": "code",
   "execution_count": null,
   "metadata": {},
   "outputs": [],
   "source": [
    "four=re.findall(r\"(\\b(a|e|i|o|u|A|E|I|O|U)[a-zA-Z]{3}\\b)\",data)\n",
    "fours=[]\n",
    "for i in range(len(four)):\n",
    "    fours.append(four[i][0])\n",
    "print(fours)"
   ]
  },
  {
   "cell_type": "markdown",
   "metadata": {},
   "source": [
    "# DATA 3"
   ]
  },
  {
   "cell_type": "markdown",
   "metadata": {},
   "source": [
    "### STEP 1 :- Opening File DATA 3\n",
    "#### This TEXT file contains INDIAN CONSTUITIONAL AMENDAMENTS with dates and order of the AMENDEMETS.\n",
    "#### As there are no currencys in this file i have included some random currency symbols with and without amounts (4)"
   ]
  },
  {
   "cell_type": "code",
   "execution_count": null,
   "metadata": {},
   "outputs": [],
   "source": [
    "f=open(sys.argv[3])"
   ]
  },
  {
   "cell_type": "code",
   "execution_count": null,
   "metadata": {},
   "outputs": [],
   "source": [
    "with open(sys.argv[3],'r',encoding='utf-8') as f:\n",
    "    data=f.readline()\n",
    "data"
   ]
  },
  {
   "cell_type": "code",
   "execution_count": null,
   "metadata": {},
   "outputs": [],
   "source": [
    "with open(sys.argv[3],'r',encoding='utf-8') as f:\n",
    "    data=f.readlines()\n",
    "data"
   ]
  },
  {
   "cell_type": "code",
   "execution_count": null,
   "metadata": {},
   "outputs": [],
   "source": [
    "with open(sys.argv[3],'r',encoding='utf-8') as f:\n",
    "    data=f.read()\n",
    "data"
   ]
  },
  {
   "cell_type": "markdown",
   "metadata": {},
   "source": [
    "### STEP 2:- FINDING CURRENCY'S INCLUDING THE AMOUNT IN TEXT"
   ]
  },
  {
   "cell_type": "code",
   "execution_count": null,
   "metadata": {},
   "outputs": [],
   "source": [
    "x=re.findall(r\"(\\d*?\\.?\\d+ ?[$₹£])\",data)"
   ]
  },
  {
   "cell_type": "code",
   "execution_count": null,
   "metadata": {},
   "outputs": [],
   "source": [
    "x"
   ]
  },
  {
   "cell_type": "markdown",
   "metadata": {},
   "source": [
    "### FINDING ONLY THE SYMBOLS OF CURRENCY IN TEXT"
   ]
  },
  {
   "cell_type": "code",
   "execution_count": null,
   "metadata": {},
   "outputs": [],
   "source": [
    "curr=re.findall(\"([$₹£])\",data)"
   ]
  },
  {
   "cell_type": "code",
   "execution_count": null,
   "metadata": {},
   "outputs": [],
   "source": [
    "print(\"Total Number Of Currency Symbols In the TEXT DATA are : \",len(curr))\n",
    "print(f\"Types Of Currency Symbols In the TEXT DATA are : \",len(set(curr)),\" \",set(curr))\n",
    "print(curr)"
   ]
  },
  {
   "cell_type": "markdown",
   "metadata": {},
   "source": [
    "### STEP 3 :-PRINTING ALL THE FORMATES OF DATES IN THE TEXT "
   ]
  },
  {
   "cell_type": "code",
   "execution_count": null,
   "metadata": {},
   "outputs": [],
   "source": [
    "dates=re.findall(r\"((0[1-9]|1[0-2])/(0[1-9]|[12][0-9]|3[01])/(\\d{4})\\b)\",data)\n",
    "print(\"The Number of dates in the format of 'mm/dd/yyyy' are : \",len(dates))\n",
    "for i in range(len(dates)):\n",
    "    print(dates[i][0],end='  ')\n",
    "print()\n",
    "dates=re.findall(r\"((0[1-9]|[12][0-9]|3[01])/(0[1-9]|1[0-2])/(\\d{4})\\b)\",data)\n",
    "print(\"The Number of dates in the format of 'dd/mm/yyyy' are : \",len(dates))\n",
    "for i in range(len(dates)):\n",
    "    print(dates[i][0],end='  ')\n",
    "print()\n",
    "dates=re.findall(r\"((0[1-9]|[12][0-9]|3[01])/(0[1-9]|1[0-2])/(\\d{2})\\b)\",data)\n",
    "print(\"The Number of dates in the format of 'dd/mm/yy' are : \",len(dates))\n",
    "for i in range(len(dates)):\n",
    "    print(dates[i][0],end='  ')\n",
    "print()\n",
    "dates=re.findall(r\"((0[1-9]|1[0-2])/(0[1-9]|[12][0-9]|3[01])/(\\d{2})\\b)\",data)\n",
    "print(\"The Number of dates in the format of 'mm/dd/yy' are : \",len(dates))\n",
    "for i in range(len(dates)):\n",
    "    print(dates[i][0],end='  ')\n",
    "print()"
   ]
  },
  {
   "cell_type": "markdown",
   "metadata": {},
   "source": [
    "### STEP 4 :-  PRINTING ALL CARDINILITIES AND ORDERS FROM THE TEXT"
   ]
  },
  {
   "cell_type": "code",
   "execution_count": null,
   "metadata": {},
   "outputs": [],
   "source": [
    "order=[]\n",
    "x=re.findall(r\"((first|second|third|sixth)|(thir[a-z]+(th|st|nd))|(fou[a-z]+(th|rd|st|nd))|(fif[a-z]+(th|st|nd|rd))|(fi[a-z]+th)|(six[a-z]+(th|st|nd|rd))|(sev[a-z]+(th|st|nd|rd))|(eig[a-z]+(th|st|nd|rd))|(nine[a-z]+(th|st|nd|rd))|(ten[a-z]+?(th|st|nd|rd))|(ele[a-z]+th)|(twe[a-z]+(th|st|nd|rd))|(hun[a-z]+(th|st|rd)))\",data)\n",
    "for i in range(len(x)):\n",
    "    if(x[i][0] not in order):\n",
    "        order.append(x[i][0])\n",
    "#print(order)\n",
    "orders=[]\n",
    "x1=re.findall(r\"([0-9]+(th|st|nd|rd))\",data)\n",
    "for i in range(len(x1)):\n",
    "    if(x1[i][0] not in orders):\n",
    "        orders.append(x1[i][0])\n",
    "#print(orders)\n",
    "if order or orders:\n",
    "    print(order+orders)\n",
    "else:\n",
    "    print(\"No CARDINILITIES AND ORDERS FOUND IN THE TEXT\")"
   ]
  },
  {
   "cell_type": "markdown",
   "metadata": {},
   "source": [
    "### STEP 5 :- PRINTING ALL 4 LETTER WORDS STARTING WITH VOWELS FROM THE TEXT "
   ]
  },
  {
   "cell_type": "code",
   "execution_count": null,
   "metadata": {},
   "outputs": [],
   "source": [
    "four=re.findall(r\"(\\b(a|e|i|o|u|A|E|I|O|U)[a-zA-Z]{3}\\b)\",data)\n",
    "fours=[]\n",
    "for i in range(len(four)):\n",
    "    fours.append(four[i][0])\n",
    "print(fours)\n",
    "print(\"Tolal number of words without repetition are : \",len(set(fours)),\"\\n\",set(fours))"
   ]
  },
  {
   "cell_type": "markdown",
   "metadata": {},
   "source": [
    "# DATA 4"
   ]
  },
  {
   "cell_type": "markdown",
   "metadata": {},
   "source": [
    "### STEP 1 :- Opening File DATA 4\n",
    "#### This TEXT file contains fluctuation of indian currency with dollar and pound daywise."
   ]
  },
  {
   "cell_type": "code",
   "execution_count": null,
   "metadata": {},
   "outputs": [],
   "source": [
    "f=open(sys.argv[4])"
   ]
  },
  {
   "cell_type": "code",
   "execution_count": null,
   "metadata": {},
   "outputs": [],
   "source": [
    "with open(sys.argv[4],'r',encoding='utf-8') as f:\n",
    "    data=f.readline()\n",
    "data"
   ]
  },
  {
   "cell_type": "code",
   "execution_count": null,
   "metadata": {},
   "outputs": [],
   "source": [
    "with open(sys.argv[4],'r',encoding='utf-8') as f:\n",
    "    data=f.readlines()\n",
    "data"
   ]
  },
  {
   "cell_type": "code",
   "execution_count": null,
   "metadata": {},
   "outputs": [],
   "source": [
    "with open(sys.argv[4],'r',encoding='utf-8') as f:\n",
    "    data=f.read()\n",
    "data"
   ]
  },
  {
   "cell_type": "markdown",
   "metadata": {},
   "source": [
    "### STEP 2:- FINDING CURRENCY'S INCLUDING THE AMOUNT IN TEXT"
   ]
  },
  {
   "cell_type": "code",
   "execution_count": null,
   "metadata": {},
   "outputs": [],
   "source": [
    "x=re.findall(r\"(\\d*\\.?\\d+ ?[$₹£])\",data)\n",
    "x1=re.findall(r\"([$₹£] ?\\d*\\.?\\d+)\",data)"
   ]
  },
  {
   "cell_type": "code",
   "execution_count": null,
   "metadata": {},
   "outputs": [],
   "source": [
    "print(x+x1)"
   ]
  },
  {
   "cell_type": "markdown",
   "metadata": {},
   "source": [
    "### FINDING ONLY THE SYMBOLS OF CURRENCY IN TEXT"
   ]
  },
  {
   "cell_type": "code",
   "execution_count": null,
   "metadata": {},
   "outputs": [],
   "source": [
    "curr=re.findall(\"([$₹£])\",data)"
   ]
  },
  {
   "cell_type": "code",
   "execution_count": null,
   "metadata": {},
   "outputs": [],
   "source": [
    "print(\"Total Number Of Currency Symbols In the TEXT DATA are : \",len(curr))\n",
    "print(f\"Types Of Currency Symbols In the TEXT DATA are : \",len(set(curr)),\" \",set(curr))"
   ]
  },
  {
   "cell_type": "markdown",
   "metadata": {},
   "source": [
    "### STEP 3 :-PRINTING ALL THE FORMATES OF DATES IN THE TEXT "
   ]
  },
  {
   "cell_type": "code",
   "execution_count": null,
   "metadata": {},
   "outputs": [],
   "source": [
    "dates=re.findall(r\"((0[1-9]|1[0-2])/(0[1-9]|[12][0-9]|3[01])/(\\d{4})\\b)\",data)\n",
    "print(\"The Number of dates in the format of 'mm/dd/yyyy' are : \",len(dates))\n",
    "for i in range(len(dates)):\n",
    "    print(dates[i][0],end='  ')\n",
    "print()\n",
    "dates=re.findall(r\"((0[1-9]|[12][0-9]|3[01])/(0[1-9]|1[0-2])/(\\d{4})\\b)\",data)\n",
    "print(\"The Number of dates in the format of 'dd/mm/yyyy' are : \",len(dates))\n",
    "for i in range(len(dates)):\n",
    "    print(dates[i][0],end='  ')\n",
    "print()\n",
    "dates=re.findall(r\"((0[1-9]|[12][0-9]|3[01])/(0[1-9]|1[0-2])/(\\d{2})\\b)\",data)\n",
    "print(\"The Number of dates in the format of 'dd/mm/yy' are : \",len(dates))\n",
    "for i in range(len(dates)):\n",
    "    print(dates[i][0],end='  ')\n",
    "print()\n",
    "dates=re.findall(r\"((0[1-9]|1[0-2])/(0[1-9]|[12][0-9]|3[01])/(\\d{2})\\b)\",data)\n",
    "print(\"The Number of dates in the format of 'mm/dd/yy' are : \",len(dates))\n",
    "for i in range(len(dates)):\n",
    "    print(dates[i][0],end='  ')\n",
    "print()"
   ]
  },
  {
   "cell_type": "markdown",
   "metadata": {},
   "source": [
    "### STEP 4 :-  PRINTING ALL CARDINILITIES AND ORDERS FROM THE TEXT"
   ]
  },
  {
   "cell_type": "code",
   "execution_count": null,
   "metadata": {},
   "outputs": [],
   "source": [
    "order=[]\n",
    "x=re.findall(r\"((first|second|third|sixth)|(thir[a-z]+(th|st|nd))|(fou[a-z]+(th|rd|st|nd))|(fif[a-z]+(th|st|nd|rd))|(fi[a-z]+th)|(six[a-z]+(th|st|nd|rd))|(sev[a-z]+(th|st|nd|rd))|(eig[a-z]+(th|st|nd|rd))|(nine[a-z]+(th|st|nd|rd))|(ten[a-z]+?(th|st|nd|rd))|(ele[a-z]+th)|(twe[a-z]+(th|st|nd|rd))|(hun[a-z]+(th|st|rd)))\",data)\n",
    "for i in range(len(x)):\n",
    "    if(x[i][0] not in order):\n",
    "        order.append(x[i][0])\n",
    "#print(order)\n",
    "orders=[]\n",
    "x1=re.findall(r\"([0-9]+(th|st|nd|rd))\",data)\n",
    "for i in range(len(x1)):\n",
    "    if(x1[i][0] not in orders):\n",
    "        orders.append(x1[i][0])\n",
    "#print(orders)\n",
    "if order or orders:\n",
    "    print(order+orders)\n",
    "else:\n",
    "    print(\"No CARDINILITIES AND ORDERS FOUND IN THE TEXT\")"
   ]
  },
  {
   "cell_type": "markdown",
   "metadata": {},
   "source": [
    "### STEP 5 :- PRINTING ALL 4 LETTER WORDS STARTING WITH VOWELS FROM THE TEXT "
   ]
  },
  {
   "cell_type": "code",
   "execution_count": null,
   "metadata": {},
   "outputs": [],
   "source": [
    "four=re.findall(r\"(\\b(a|e|i|o|u|A|E|I|O|U)[a-zA-Z]{3}\\b)\",data)\n",
    "fours=[]\n",
    "if four:\n",
    "    for i in range(len(four)):\n",
    "        fours.append(four[i][0])\n",
    "    print(fours)\n",
    "    print(\"Tolal number of words without repetition are : \",len(set(fours)),\"\\n\",set(fours))\n",
    "else:\n",
    "    print(\"NO 4 LETTER WORDS STARTING WITH VOWELS FROM THE TEXT\")"
   ]
  },
  {
   "cell_type": "markdown",
   "metadata": {},
   "source": [
    "# DATA 5"
   ]
  },
  {
   "cell_type": "markdown",
   "metadata": {},
   "source": [
    "### STEP 1 :- Opening File DATA 5\n",
    "#### This TEXT file contains a book about indian history."
   ]
  },
  {
   "cell_type": "code",
   "execution_count": null,
   "metadata": {},
   "outputs": [],
   "source": [
    "f=open(sys.argv[5])"
   ]
  },
  {
   "cell_type": "code",
   "execution_count": null,
   "metadata": {},
   "outputs": [],
   "source": [
    "with open(sys.argv[5],'r',encoding='utf-8') as f:\n",
    "    data=f.read()\n",
    "data"
   ]
  },
  {
   "cell_type": "markdown",
   "metadata": {},
   "source": [
    "### STEP 2:- FINDING CURRENCY'S INCLUDING THE AMOUNT IN TEXT"
   ]
  },
  {
   "cell_type": "code",
   "execution_count": null,
   "metadata": {},
   "outputs": [],
   "source": [
    "x=re.findall(r\"(\\d*\\.?\\d+ ?[$₹£])\",data)\n",
    "x1=re.findall(r\"([$₹£] ?\\d*\\.?\\d+)\",data)"
   ]
  },
  {
   "cell_type": "code",
   "execution_count": null,
   "metadata": {},
   "outputs": [],
   "source": [
    "print(x+x1)"
   ]
  },
  {
   "cell_type": "markdown",
   "metadata": {},
   "source": [
    "### STEP 3 :-PRINTING ALL THE FORMATES OF DATES IN THE TEXT "
   ]
  },
  {
   "cell_type": "code",
   "execution_count": null,
   "metadata": {},
   "outputs": [],
   "source": [
    "dates=re.findall(r\"((0[1-9]|1[0-2])/(0[1-9]|[12][0-9]|3[01])/(\\d{4})\\b)\",data)\n",
    "print(\"The Number of dates in the format of 'mm/dd/yyyy' are : \",len(dates))\n",
    "for i in range(len(dates)):\n",
    "    print(dates[i][0],end='  ')\n",
    "print()\n",
    "dates=re.findall(r\"((0[1-9]|[12][0-9]|3[01])/(0[1-9]|1[0-2])/(\\d{4})\\b)\",data)\n",
    "print(\"The Number of dates in the format of 'dd/mm/yyyy' are : \",len(dates))\n",
    "for i in range(len(dates)):\n",
    "    print(dates[i][0],end='  ')\n",
    "print()\n",
    "dates=re.findall(r\"((0[1-9]|[12][0-9]|3[01])/(0[1-9]|1[0-2])/(\\d{2})\\b)\",data)\n",
    "print(\"The Number of dates in the format of 'dd/mm/yy' are : \",len(dates))\n",
    "for i in range(len(dates)):\n",
    "    print(dates[i][0],end='  ')\n",
    "print()\n",
    "dates=re.findall(r\"((0[1-9]|1[0-2])/(0[1-9]|[12][0-9]|3[01])/(\\d{2})\\b)\",data)\n",
    "print(\"The Number of dates in the format of 'mm/dd/yy' are : \",len(dates))\n",
    "for i in range(len(dates)):\n",
    "    print(dates[i][0],end='  ')\n",
    "print()"
   ]
  },
  {
   "cell_type": "markdown",
   "metadata": {},
   "source": [
    "### STEP 4 :-  PRINTING ALL CARDINILITIES AND ORDERS FROM THE TEXT"
   ]
  },
  {
   "cell_type": "code",
   "execution_count": null,
   "metadata": {},
   "outputs": [],
   "source": [
    "order=[]\n",
    "x=re.findall(r\"((first|second|third|sixth)|(thir[a-z]+(th|st|nd))|(fou[a-z]+(th|rd|st|nd))|(fif[a-z]+(th|st|nd|rd))|(fi[a-z]+th)|(six[a-z]+(th|st|nd|rd))|(sev[a-z]+(th|st|nd|rd))|(eig[a-z]+(th|st|nd|rd))|(nine[a-z]+(th|st|nd|rd))|(ten[a-z]+?(th|st|nd|rd))|(ele[a-z]+th)|(twe[a-z]+(th|st|nd|rd))|(hun[a-z]+(th|st|rd)))\",data)\n",
    "for i in range(len(x)):\n",
    "    if(x[i][0] not in order):\n",
    "        order.append(x[i][0])\n",
    "#print(order)\n",
    "orders=[]\n",
    "x1=re.findall(r\"([0-9]+(th|st|nd|rd))\",data)\n",
    "for i in range(len(x1)):\n",
    "    if(x1[i][0] not in orders):\n",
    "        orders.append(x1[i][0])\n",
    "#print(orders)\n",
    "if order or orders:\n",
    "    print(order+orders)\n",
    "else:\n",
    "    print(\"No CARDINILITIES AND ORDERS FOUND IN THE TEXT\")"
   ]
  },
  {
   "cell_type": "markdown",
   "metadata": {},
   "source": [
    "### STEP 5 :- PRINTING ALL 4 LETTER WORDS STARTING WITH VOWELS FROM THE TEXT "
   ]
  },
  {
   "cell_type": "code",
   "execution_count": null,
   "metadata": {},
   "outputs": [],
   "source": [
    "four=re.findall(r\"(\\b(a|e|i|o|u|A|E|I|O|U)[a-zA-Z]{3}\\b)\",data)\n",
    "fours=[]\n",
    "if four:\n",
    "    for i in range(len(four)):\n",
    "        fours.append(four[i][0])\n",
    "    print(\"Tolal number of words without repetition are : \",len(set(fours)),\"\\n\",set(fours))\n",
    "else:\n",
    "    print(\"NO 4 LETTER WORDS STARTING WITH VOWELS FROM THE TEXT\")"
   ]
  },
  {
   "attachments": {
    "Screenshot%20%282529%29.png": {
     "image/png": "[encoded data removed]"
    }
   },
   "cell_type": "markdown",
   "metadata": {},
   "source": [
    "![Screenshot%20%282529%29.png](attachment:Screenshot%20%282529%29.png)"
   ]
  },
  {
   "cell_type": "code",
   "execution_count": null,
   "metadata": {},
   "outputs": [],
   "source": []
  }
 ],
 "metadata": {
  "kernelspec": {
   "display_name": "Python 3",
   "language": "python",
   "name": "python3"
  },
  "language_info": {
   "codemirror_mode": {
    "name": "ipython",
    "version": 3
   },
   "file_extension": ".py",
   "mimetype": "text/x-python",
   "name": "python",
   "nbconvert_exporter": "python",
   "pygments_lexer": "ipython3",
   "version": "3.7.4"
  }
 },
 "nbformat": 4,
 "nbformat_minor": 2
}

{
 "cells": [
  {
   "cell_type": "markdown",
   "metadata": {},
   "source": [
    "# NAME :- MOHAN SAI KOTHAPALLI\n",
    "# EMP ID :- 2112951\n",
    "# COHORT CODE :- GN22CDBDS001"
   ]
  },
  {
   "cell_type": "markdown",
   "metadata": {},
   "source": [
    "## ASSIGNMENT ON REGEX"
   ]
  },
  {
   "cell_type": "markdown",
   "metadata": {},
   "source": [
    "Design a python program to accept a file name through command line arguments.\n",
    "\n",
    "Parse this file to perform the following:\n",
    "\n",
    "1. Print all currencies in text, Accepted- $, ₹, £ \n",
    "\n",
    "2. Print all date times in the text- dd/mm/yyyy, dd/mm/yy, mm/dd/yyyy, mm/dd/yy\n",
    "\n",
    "3. Print all cardinilities and orders- 4th, fifth, sixth, 1st, 2nd, nineteenth, fifth\n",
    "\n",
    "4. Print all 4 letter words that begin with vowels"
   ]
  },
  {
   "cell_type": "markdown",
   "metadata": {},
   "source": [
    "### STEP 0 :- IMPORTING LIBRARIES"
   ]
  },
  {
   "cell_type": "code",
   "execution_count": 1,
   "metadata": {},
   "outputs": [],
   "source": [
    "import re\n",
    "import sys"
   ]
  },
  {
   "cell_type": "markdown",
   "metadata": {},
   "source": [
    "# DATA 1\n",
    "### STEP 1 :- Opening File DATA 1\n",
    "#### This file contains some random text with currency's  and dates and some orders."
   ]
  },
  {
   "cell_type": "code",
   "execution_count": 2,
   "metadata": {},
   "outputs": [],
   "source": [
    "f=open('data1.txt')"
   ]
  },
  {
   "cell_type": "code",
   "execution_count": 3,
   "metadata": {},
   "outputs": [
    {
     "data": {
      "text/plain": [
       "'Indian currency symbol is ₹. USA currency symbol is $. UK currency symbol is £. 1₹ is 0.013$ and 1$ is 75.95₹ as of 02/04/2022. 1₹ is 0.010£ and 1£ is  99.61£ as of 04/02/2022. 1$ is 76.048₹ as of 28/03/22. 1$ is 75.998₹ as of 03/20/22. ISO 8601 allows for date representations without the hyphens separating the parts of the date. For example 14th June 2021 can be written as 2021-06-14 in the extended human-readable format but also as 20210614 in the basic format. If agreed upon by both the sender and receiver, we can modify the year representation to include additional year characters. For example, if we’d like to include a 5th year-character and fourteenth hundreeth fifth ours Ours first 1st.\\n'"
      ]
     },
     "execution_count": 3,
     "metadata": {},
     "output_type": "execute_result"
    }
   ],
   "source": [
    "with open('data1.txt','r',encoding='utf-8') as f:\n",
    "    data=f.readline()\n",
    "data"
   ]
  },
  {
   "cell_type": "markdown",
   "metadata": {},
   "source": [
    "## The above 'readline()' will read a single line from the file. Line means when you press \"enter\" in the keyboard will typing your data that is considered as new line. Without pressing you keep on typing then it is considered as single line. i.e '\\n'"
   ]
  },
  {
   "cell_type": "code",
   "execution_count": 4,
   "metadata": {},
   "outputs": [
    {
     "data": {
      "text/plain": [
       "['Indian currency symbol is ₹. USA currency symbol is $. UK currency symbol is £. 1₹ is 0.013$ and 1$ is 75.95₹ as of 02/04/2022. 1₹ is 0.010£ and 1£ is  99.61£ as of 04/02/2022. 1$ is 76.048₹ as of 28/03/22. 1$ is 75.998₹ as of 03/20/22. ISO 8601 allows for date representations without the hyphens separating the parts of the date. For example 14th June 2021 can be written as 2021-06-14 in the extended human-readable format but also as 20210614 in the basic format. If agreed upon by both the sender and receiver, we can modify the year representation to include additional year characters. For example, if we’d like to include a 5th year-character and fourteenth hundreeth fifth ours Ours first 1st.\\n',\n",
       " 'In addition, this does not rule out invalid leap days. For example, it will match 02/29/2021 although 2021 is not a leap year. To do this check will require checking if the year is divisible by 4. This is not possible with regular expressions and it is recommended that you use the date tools in your programming language of choice to check for validity.\\n',\n",
       " 'The column Independent Filing Deadline shows the date for the filing of petitions by independent or third/minor party candidates. This is a general reference\\n',\n",
       " 'date for use by the public and voters. Candidates and others seeking specific information should contact the states for other deadlines that may need\\n',\n",
       " 'to be met. For example, the petitions may have to be checked by officials prior to this date. A declaration of candidacy may be due before the petitions are\\n']"
      ]
     },
     "execution_count": 4,
     "metadata": {},
     "output_type": "execute_result"
    }
   ],
   "source": [
    "with open('data1.txt','r',encoding='utf-8') as f:\n",
    "    data=f.readlines()\n",
    "data[:5]"
   ]
  },
  {
   "cell_type": "markdown",
   "metadata": {},
   "source": [
    "## The above 'readlines()' will read all lines from the file as list. Each line as an element in list."
   ]
  },
  {
   "cell_type": "code",
   "execution_count": 5,
   "metadata": {},
   "outputs": [
    {
     "data": {
      "text/plain": [
       "'Indian currency symbol is ₹. USA currency symbol is $. UK currency symbol is £. 1₹ is 0.013$ and 1$ is 75.95₹ as of 02/04/2022. 1₹ is 0.010£ and 1£ is  99.61£ as of 04/02/2022. 1$ is 76.048₹ as of 28/03/22. 1$ is 75.998₹ as of 03/20/22. ISO 8601 allows for date representations without the hyphens separating the parts of the date. For example 14th June 2021 can be written as 2021-06-14 in the extended human-readable format but also as 20210614 in the basic format. If agreed upon by both the sender and receiver, we can modify the year representation to include additional year characters. For example, if we’d like to include a 5th year-character and fourteenth hundreeth fifth ours Ours first 1st.\\nIn addition, this does not rule out invalid leap days. For example, it will match 02/29/2021 although 2021 is not a leap year. To do this check will require checking if the year is divisible by 4. This is not possible with regular expressions and it is recommended that you use the date tools in y'"
      ]
     },
     "execution_count": 5,
     "metadata": {},
     "output_type": "execute_result"
    }
   ],
   "source": [
    "with open('data1.txt','r',encoding='utf-8') as f:\n",
    "    data=f.read()\n",
    "data[:1000]"
   ]
  },
  {
   "cell_type": "markdown",
   "metadata": {},
   "source": [
    "## The above 'read()' will read all lines from the file as single para."
   ]
  },
  {
   "cell_type": "markdown",
   "metadata": {},
   "source": [
    "### STEP 2:- FINDING CURRENCY'S INCLUDING THE AMOUNT IN TEXT"
   ]
  },
  {
   "cell_type": "code",
   "execution_count": 6,
   "metadata": {},
   "outputs": [
    {
     "name": "stdout",
     "output_type": "stream",
     "text": [
      "['1₹', '0.013$', '1$', '75.95₹', '1₹', '0.010£', '1£', '99.61£', '1$', '76.048₹', '1$', '75.998₹']\n"
     ]
    }
   ],
   "source": [
    "x=re.findall(r\"(\\d*?\\.?\\d+ ?[$₹£])\",data)\n",
    "x1=re.findall(r\"([$₹£] ?\\d*\\.?\\d+)\",data)\n",
    "print(x+x1)"
   ]
  },
  {
   "cell_type": "markdown",
   "metadata": {},
   "source": [
    "### FINDING ONLY THE SYMBOLS OF CURRENCY IN TEXT"
   ]
  },
  {
   "cell_type": "code",
   "execution_count": 7,
   "metadata": {},
   "outputs": [
    {
     "name": "stdout",
     "output_type": "stream",
     "text": [
      "Total Number Of Currency Symbols In the TEXT DATA are :  15\n",
      "Types Of Currency Symbols In the TEXT DATA are :  3   {'₹', '$', '£'}\n",
      "['₹', '$', '£', '₹', '$', '$', '₹', '₹', '£', '£', '£', '$', '₹', '$', '₹']\n"
     ]
    }
   ],
   "source": [
    "curr=re.findall(\"([$₹£])\",data)\n",
    "print(\"Total Number Of Currency Symbols In the TEXT DATA are : \",len(curr))\n",
    "print(f\"Types Of Currency Symbols In the TEXT DATA are : \",len(set(curr)),\" \",set(curr))\n",
    "print(curr)"
   ]
  },
  {
   "cell_type": "markdown",
   "metadata": {},
   "source": [
    "### STEP 3 :-PRINTING ALL THE FORMATES OF DATES IN THE TEXT "
   ]
  },
  {
   "cell_type": "code",
   "execution_count": 8,
   "metadata": {},
   "outputs": [
    {
     "name": "stdout",
     "output_type": "stream",
     "text": [
      "The Number of dates in the format of 'mm/dd/yyyy' are :  12\n",
      "02/04/2022  04/02/2022  02/29/2021  04/23/2022  03/06/2022  11/08/2022  12/10/2022  07/22/2022  04/23/2022  04/23/2022  03/12/2022  03/12/2022  \n",
      "The Number of dates in the format of 'dd/mm/yyyy' are :  7\n",
      "02/04/2022  04/02/2022  03/06/2022  11/08/2022  12/10/2022  03/12/2022  03/12/2022  \n",
      "The Number of dates in the format of 'dd/mm/yy' are :  3\n",
      "28/03/22  03/05/20  03/08/22  \n",
      "The Number of dates in the format of 'mm/dd/yy' are :  4\n",
      "03/20/22  03/05/20  03/19/22  03/08/22  \n"
     ]
    }
   ],
   "source": [
    "dates=re.findall(r\"((0[1-9]|1[0-2])/(0[1-9]|[12][0-9]|3[01])/(\\d{4})\\b)\",data)\n",
    "print(\"The Number of dates in the format of 'mm/dd/yyyy' are : \",len(dates))\n",
    "for i in range(len(dates)):\n",
    "    print(dates[i][0],end='  ')\n",
    "print()\n",
    "dates=re.findall(r\"((0[1-9]|[12][0-9]|3[01])/(0[1-9]|1[0-2])/(\\d{4})\\b)\",data)\n",
    "print(\"The Number of dates in the format of 'dd/mm/yyyy' are : \",len(dates))\n",
    "for i in range(len(dates)):\n",
    "    print(dates[i][0],end='  ')\n",
    "print()\n",
    "dates=re.findall(r\"((0[1-9]|[12][0-9]|3[01])/(0[1-9]|1[0-2])/(\\d{2})\\b)\",data)\n",
    "print(\"The Number of dates in the format of 'dd/mm/yy' are : \",len(dates))\n",
    "for i in range(len(dates)):\n",
    "    print(dates[i][0],end='  ')\n",
    "print()\n",
    "dates=re.findall(r\"((0[1-9]|1[0-2])/(0[1-9]|[12][0-9]|3[01])/(\\d{2})\\b)\",data)\n",
    "print(\"The Number of dates in the format of 'mm/dd/yy' are : \",len(dates))\n",
    "for i in range(len(dates)):\n",
    "    print(dates[i][0],end='  ')\n",
    "print()"
   ]
  },
  {
   "cell_type": "markdown",
   "metadata": {},
   "source": [
    "### STEP 4 :-  PRINTING ALL CARDINILITIES AND ORDERS FROM THE TEXT"
   ]
  },
  {
   "cell_type": "code",
   "execution_count": 9,
   "metadata": {},
   "outputs": [
    {
     "name": "stdout",
     "output_type": "stream",
     "text": [
      "The cardinilites and orders present in the data are :\n",
      " ['fourteenth', 'hundreeth', 'fifth', 'first', 'third', '14th', '5th', '1st']\n"
     ]
    }
   ],
   "source": [
    "order=[]\n",
    "x=re.findall(r\"((first|second|third|sixth)|(thir[a-z]+(th|st|nd))|(fou[a-z]+(th|rd|st|nd))|(fif[a-z]+(th|st|nd|rd))|(fi[a-z]+th)|(six[a-z]+(th|st|nd|rd))|(sev[a-z]+(th|st|nd|rd))|(eig[a-z]+(th|st|nd|rd))|(nine[a-z]+(th|st|nd|rd))|(ten[a-z]+?(th|st|nd|rd))|(ele[a-z]+th)|(twe[a-z]+(th|st|nd|rd))|(hun[a-z]+(th|st|rd)))\",data)\n",
    "for i in range(len(x)):\n",
    "    if(x[i][0] not in order):\n",
    "        order.append(x[i][0])\n",
    "#print(order)\n",
    "orders=[]\n",
    "x1=re.findall(r\"([0-9]+(th|st|nd|rd))\",data)\n",
    "for i in range(len(x1)):\n",
    "    if(x1[i][0] not in orders):\n",
    "        orders.append(x1[i][0])\n",
    "#print(orders)\n",
    "if order or orders:\n",
    "    print(\"The cardinilites and orders present in the data are :\\n\",order+orders)\n",
    "else:\n",
    "    print(\"No CARDINILITIES AND ORDERS FOUND IN THE TEXT\")"
   ]
  },
  {
   "cell_type": "markdown",
   "metadata": {},
   "source": [
    "### STEP 5 :- PRINTING ALL 4 LETTER WORDS STARTING WITH VOWELS FROM THE TEXT "
   ]
  },
  {
   "cell_type": "code",
   "execution_count": 10,
   "metadata": {},
   "outputs": [
    {
     "name": "stdout",
     "output_type": "stream",
     "text": [
      "['also', 'upon', 'ours', 'Ours', 'Utah', 'Utah']\n",
      "Tolal number of words without repetition are :  5 \n",
      " {'also', 'upon', 'ours', 'Utah', 'Ours'}\n"
     ]
    }
   ],
   "source": [
    "four=re.findall(r\"(\\b(a|e|i|o|u|A|E|I|O|U)[a-zA-Z]{3}\\b)\",data)\n",
    "fours=[]\n",
    "if four:\n",
    "    for i in range(len(four)):\n",
    "        fours.append(four[i][0])\n",
    "    print(fours)\n",
    "    print(\"Tolal number of words without repetition are : \",len(set(fours)),\"\\n\",set(fours))\n",
    "else:\n",
    "    print(\"NO 4 LETTER WORDS STARTING WITH VOWELS FROM THE TEXT\")"
   ]
  },
  {
   "cell_type": "markdown",
   "metadata": {},
   "source": [
    "## WE WILL REPEAT THE ABOVE STEPS FOR THE REMAINING DATASETS"
   ]
  },
  {
   "cell_type": "markdown",
   "metadata": {},
   "source": [
    "# DATA 2"
   ]
  },
  {
   "cell_type": "markdown",
   "metadata": {},
   "source": [
    "### STEP 1 :- Opening File DATA 2\n",
    "#### This TEXT file contains a story and some values of currency's."
   ]
  },
  {
   "cell_type": "code",
   "execution_count": 11,
   "metadata": {},
   "outputs": [],
   "source": [
    "f=open('data2.txt')"
   ]
  },
  {
   "cell_type": "code",
   "execution_count": 12,
   "metadata": {},
   "outputs": [
    {
     "data": {
      "text/plain": [
       "\"'Well, Mr Smith, first if you prefer a different type of nose, we have a large selection available.'\\n\""
      ]
     },
     "execution_count": 12,
     "metadata": {},
     "output_type": "execute_result"
    }
   ],
   "source": [
    "with open('data2.txt','r',encoding='utf-8') as f:\n",
    "    data=f.readline()\n",
    "data"
   ]
  },
  {
   "cell_type": "code",
   "execution_count": 13,
   "metadata": {},
   "outputs": [
    {
     "data": {
      "text/plain": [
       "[\"'Well, Mr Smith, first if you prefer a different type of nose, we have a large selection available.'\\n\",\n",
       " '\\n',\n",
       " \"'I think this nose is a bit too small.'\\n\",\n",
       " '\\n',\n",
       " \"'Small noses are very fashionable this year, Mr Smith, very fashionable.'\\n\",\n",
       " '\\n',\n",
       " \"'Do you think it suits me?' asked Mr Smith.\\n\",\n",
       " '\\n',\n",
       " \"'I think it second and third looks very nice,' said the shop assistant.\\n\",\n",
       " '\\n']"
      ]
     },
     "execution_count": 13,
     "metadata": {},
     "output_type": "execute_result"
    }
   ],
   "source": [
    "with open('data2.txt','r',encoding='utf-8') as f:\n",
    "    data=f.readlines()\n",
    "data[:10]"
   ]
  },
  {
   "cell_type": "code",
   "execution_count": 14,
   "metadata": {},
   "outputs": [
    {
     "data": {
      "text/plain": [
       "\"'Well, Mr Smith, first if you prefer a different type of nose, we have a large selection available.'\\n\\n'I think this nose is a bit too small.'\\n\\n'Small noses are very fashionable this year, Mr Smith, very fashionable.'\\n\\n'Do you think it suits me?' asked Mr Smith.\\n\\n'I think it second and third looks very nice,' said the shop assistant.\\n\\n'OK, I'll take it!'\\n\\nOn the airbus home, Mr Smith called his wife on his wristphone.\\n\\n'Hello dear! Do you like my new nose?'\\n\\nMrs Smith looked at her husband's new nose on the videophone monitor on the wall in the kitchen. 'I think it's a bit too small, dear,' she said.\\n\\n'Small noses are very fashionable this year,' replied Mr Smith, 'very fashionable.' It's all so easy now, thought Mr Smith. A hundred years ago, it was impossible to change your body. Or almost impossible – there was the old-fashioned 'plastic surgery', but it was expensive, painful and dangerous. Ugh! Now, thanks to our 22nd-century genetic engineering, we can change our bodies when we wa\""
      ]
     },
     "execution_count": 14,
     "metadata": {},
     "output_type": "execute_result"
    }
   ],
   "source": [
    "with open('data2.txt','r',encoding='utf-8') as f:\n",
    "    data=f.read()\n",
    "data[:1000]"
   ]
  },
  {
   "cell_type": "markdown",
   "metadata": {},
   "source": [
    "### STEP 2:- FINDING CURRENCY'S INCLUDING THE AMOUNT IN TEXT"
   ]
  },
  {
   "cell_type": "code",
   "execution_count": 15,
   "metadata": {},
   "outputs": [
    {
     "name": "stdout",
     "output_type": "stream",
     "text": [
      "['100000$', '100000$']\n"
     ]
    }
   ],
   "source": [
    "x=re.findall(r\"(\\d*?\\.?\\d+ ?[$₹£])\",data)\n",
    "x1=re.findall(r\"([$₹£] ?\\d*\\.?\\d+)\",data)\n",
    "print(x+x1)"
   ]
  },
  {
   "cell_type": "markdown",
   "metadata": {},
   "source": [
    "### FINDING ONLY THE SYMBOLS OF CURRENCY IN TEXT"
   ]
  },
  {
   "cell_type": "code",
   "execution_count": 16,
   "metadata": {},
   "outputs": [
    {
     "name": "stdout",
     "output_type": "stream",
     "text": [
      "Total Number Of Currency Symbols In the TEXT DATA are :  2\n",
      "Types Of Currency Symbols In the TEXT DATA are :  1   {'$'}\n",
      "['$', '$']\n"
     ]
    }
   ],
   "source": [
    "curr=re.findall(\"([$₹£])\",data)\n",
    "print(\"Total Number Of Currency Symbols In the TEXT DATA are : \",len(curr))\n",
    "print(f\"Types Of Currency Symbols In the TEXT DATA are : \",len(set(curr)),\" \",set(curr))\n",
    "print(curr)"
   ]
  },
  {
   "cell_type": "markdown",
   "metadata": {},
   "source": [
    "### STEP 3 :-PRINTING ALL THE FORMATES OF DATES IN THE TEXT "
   ]
  },
  {
   "cell_type": "code",
   "execution_count": 17,
   "metadata": {},
   "outputs": [
    {
     "name": "stdout",
     "output_type": "stream",
     "text": [
      "The Number of dates in the format of 'mm/dd/yyyy' are :  0\n",
      "\n",
      "The Number of dates in the format of 'dd/mm/yyyy' are :  0\n",
      "\n",
      "The Number of dates in the format of 'dd/mm/yy' are :  0\n",
      "\n",
      "The Number of dates in the format of 'mm/dd/yy' are :  0\n",
      "\n"
     ]
    }
   ],
   "source": [
    "dates=re.findall(r\"((0[1-9]|1[0-2])/(0[1-9]|[12][0-9]|3[01])/(\\d{4})\\b)\",data)\n",
    "print(\"The Number of dates in the format of 'mm/dd/yyyy' are : \",len(dates))\n",
    "for i in range(len(dates)):\n",
    "    print(dates[i][0],end='  ')\n",
    "print()\n",
    "dates=re.findall(r\"((0[1-9]|[12][0-9]|3[01])/(0[1-9]|1[0-2])/(\\d{4})\\b)\",data)\n",
    "print(\"The Number of dates in the format of 'dd/mm/yyyy' are : \",len(dates))\n",
    "for i in range(len(dates)):\n",
    "    print(dates[i][0],end='  ')\n",
    "print()\n",
    "dates=re.findall(r\"((0[1-9]|[12][0-9]|3[01])/(0[1-9]|1[0-2])/(\\d{2})\\b)\",data)\n",
    "print(\"The Number of dates in the format of 'dd/mm/yy' are : \",len(dates))\n",
    "for i in range(len(dates)):\n",
    "    print(dates[i][0],end='  ')\n",
    "print()\n",
    "dates=re.findall(r\"((0[1-9]|1[0-2])/(0[1-9]|[12][0-9]|3[01])/(\\d{2})\\b)\",data)\n",
    "print(\"The Number of dates in the format of 'mm/dd/yy' are : \",len(dates))\n",
    "for i in range(len(dates)):\n",
    "    print(dates[i][0],end='  ')\n",
    "print()"
   ]
  },
  {
   "cell_type": "markdown",
   "metadata": {},
   "source": [
    "### STEP 4 :-  PRINTING ALL CARDINILITIES AND ORDERS FROM THE TEXT"
   ]
  },
  {
   "cell_type": "code",
   "execution_count": 18,
   "metadata": {},
   "outputs": [
    {
     "name": "stdout",
     "output_type": "stream",
     "text": [
      "The cardinilites and orders present in the data are :\n",
      " ['first', 'second', 'third', '22nd']\n"
     ]
    }
   ],
   "source": [
    "order=[]\n",
    "x=re.findall(r\"((first|second|third|sixth)|(thir[a-z]+(th|st|nd))|(fou[a-z]+(th|rd|st|nd))|(fif[a-z]+(th|st|nd|rd))|(fi[a-z]+th)|(six[a-z]+(th|st|nd|rd))|(sev[a-z]+(th|st|nd|rd))|(eig[a-z]+(th|st|nd|rd))|(nine[a-z]+(th|st|nd|rd))|(ten[a-z]+?(th|st|nd|rd))|(ele[a-z]+th)|(twe[a-z]+(th|st|nd|rd))|(hun[a-z]+(th|st|rd)))\",data)\n",
    "for i in range(len(x)):\n",
    "    if(x[i][0] not in order):\n",
    "        order.append(x[i][0])\n",
    "#print(order)\n",
    "orders=[]\n",
    "x1=re.findall(r\"([0-9]+(th|st|nd|rd))\",data)\n",
    "for i in range(len(x1)):\n",
    "    if(x1[i][0] not in orders):\n",
    "        orders.append(x1[i][0])\n",
    "#print(orders)\n",
    "if order or orders:\n",
    "    print(\"The cardinilites and orders present in the data are :\\n\",order+orders)\n",
    "else:\n",
    "    print(\"No CARDINILITIES AND ORDERS FOUND IN THE TEXT\")"
   ]
  },
  {
   "cell_type": "markdown",
   "metadata": {},
   "source": [
    "### STEP 5 :- PRINTING ALL 4 LETTER WORDS STARTING WITH VOWELS FROM THE TEXT "
   ]
  },
  {
   "cell_type": "code",
   "execution_count": 19,
   "metadata": {},
   "outputs": [
    {
     "name": "stdout",
     "output_type": "stream",
     "text": [
      "['easy', 'only', 'else', 'ears', 'Ears', 'ears', 'ears', 'ears', 'eyes', 'arms', 'ears', 'eyes', 'arms', 'only', 'used', 'used', 'used', 'eyes', 'into']\n",
      "Tolal number of words without repetition are :  9 \n",
      " {'ears', 'only', 'Ears', 'used', 'easy', 'eyes', 'else', 'arms', 'into'}\n"
     ]
    }
   ],
   "source": [
    "four=re.findall(r\"(\\b(a|e|i|o|u|A|E|I|O|U)[a-zA-Z]{3}\\b)\",data)\n",
    "fours=[]\n",
    "if four:\n",
    "    for i in range(len(four)):\n",
    "        fours.append(four[i][0])\n",
    "    print(fours)\n",
    "    print(\"Tolal number of words without repetition are : \",len(set(fours)),\"\\n\",set(fours))\n",
    "else:\n",
    "    print(\"NO 4 LETTER WORDS STARTING WITH VOWELS FROM THE TEXT\")"
   ]
  },
  {
   "cell_type": "markdown",
   "metadata": {},
   "source": [
    "# DATA 3"
   ]
  },
  {
   "cell_type": "markdown",
   "metadata": {},
   "source": [
    "### STEP 1 :- Opening File DATA 3\n",
    "#### This TEXT file contains INDIAN CONSTUITIONAL AMENDAMENTS with dates and order of the AMENDEMETS.\n",
    "#### As there are no currencys in this file i have included some random currency symbols with and without amounts (4)"
   ]
  },
  {
   "cell_type": "code",
   "execution_count": 20,
   "metadata": {},
   "outputs": [],
   "source": [
    "f=open('data3.txt')"
   ]
  },
  {
   "cell_type": "code",
   "execution_count": 21,
   "metadata": {},
   "outputs": [
    {
     "data": {
      "text/plain": [
       "'1st\\t15, 19, 85, 87, 174, 176, 341, 342, 372 and 376.Insert articles 31A and 31B.Insert schedule 9.\\t18/06/1951 \\tAdded special provision for the advancement of any socially and educationally [7] backward classes or for the Scheduled Castes and Scheduled Tribes (SCs and STs). To fully secure the constitutional validity of zamindari abolition laws and to place reasonable restriction on freedom of speech. A new constitutional device, called Schedule 9 introduced to protect against laws that are contrary to the Constitutionally guaranteed fundamental rights. These laws encroach upon property rights, freedom of speech and equality before law.\\tJawaharlal Nehru\\tRajendra Prasad\\n'"
      ]
     },
     "execution_count": 21,
     "metadata": {},
     "output_type": "execute_result"
    }
   ],
   "source": [
    "with open('data3.txt','r',encoding='utf-8') as f:\n",
    "    data=f.readline()\n",
    "data"
   ]
  },
  {
   "cell_type": "code",
   "execution_count": 22,
   "metadata": {},
   "outputs": [
    {
     "data": {
      "text/plain": [
       "['1st\\t15, 19, 85, 87, 174, 176, 341, 342, 372 and 376.Insert articles 31A and 31B.Insert schedule 9.\\t18/06/1951 \\tAdded special provision for the advancement of any socially and educationally [7] backward classes or for the Scheduled Castes and Scheduled Tribes (SCs and STs). To fully secure the constitutional validity of zamindari abolition laws and to place reasonable restriction on freedom of speech. A new constitutional device, called Schedule 9 introduced to protect against laws that are contrary to the Constitutionally guaranteed fundamental rights. These laws encroach upon property rights, freedom of speech and equality before law.\\tJawaharlal Nehru\\tRajendra Prasad\\n',\n",
       " '2nd\\tAmend article 81(1)(b).[8]\\t01/05/1953\\tRemoved the upper population limit for a parliamentary constituency by amending Article 81(1)(b).\\n',\n",
       " '3rd\\tAmend schedule 7.[9]\\t22/02/1955\\tRe-enacted entry 33 of the Concurrent List in the Seventh Schedule with relation to include trade and commerce in, and the production, supply and distribution of four classes of essential commodities, viz., foodstuffs, including edible oil seeds and oils; cattle fodder, including oilcakes and other concentrates; raw cotton whether ginned or unginned, and cotton seeds; and raw jute. 100$\\n',\n",
       " '4th\\tAmend articles £ 31, 35 and 305.\\n',\n",
       " 'Amend schedule 9.[10]\\t27/04/1955\\tRestrictions on property rights and inclusion of related bills in Schedule 9 of the constitution.\\n']"
      ]
     },
     "execution_count": 22,
     "metadata": {},
     "output_type": "execute_result"
    }
   ],
   "source": [
    "with open('data3.txt','r',encoding='utf-8') as f:\n",
    "    data=f.readlines()\n",
    "data[:5]"
   ]
  },
  {
   "cell_type": "code",
   "execution_count": 23,
   "metadata": {},
   "outputs": [
    {
     "data": {
      "text/plain": [
       "'1st\\t15, 19, 85, 87, 174, 176, 341, 342, 372 and 376.Insert articles 31A and 31B.Insert schedule 9.\\t18/06/1951 \\tAdded special provision for the advancement of any socially and educationally [7] backward classes or for the Scheduled Castes and Scheduled Tribes (SCs and STs). To fully secure the constitutional validity of zamindari abolition laws and to place reasonable restriction on freedom of speech. A new constitutional device, called Schedule 9 introduced to protect against laws that are contrary to the Constitutionally guaranteed fundamental rights. These laws encroach upon property rights, freedom of speech and equality before law.\\tJawaharlal Nehru\\tRajendra Prasad\\n2nd\\tAmend article 81(1)(b).[8]\\t01/05/1953\\tRemoved the upper population limit for a parliamentary constituency by amending Article 81(1)(b).\\n3rd\\tAmend schedule 7.[9]\\t22/02/1955\\tRe-enacted entry 33 of the Concurrent List in the Seventh Schedule with relation to include trade and commerce in, and the production, supply and d'"
      ]
     },
     "execution_count": 23,
     "metadata": {},
     "output_type": "execute_result"
    }
   ],
   "source": [
    "with open('data3.txt','r',encoding='utf-8') as f:\n",
    "    data=f.read()\n",
    "data[:1000]"
   ]
  },
  {
   "cell_type": "markdown",
   "metadata": {},
   "source": [
    "### STEP 2:- FINDING CURRENCY'S INCLUDING THE AMOUNT IN TEXT"
   ]
  },
  {
   "cell_type": "code",
   "execution_count": 24,
   "metadata": {},
   "outputs": [
    {
     "name": "stdout",
     "output_type": "stream",
     "text": [
      "['100$', '100₹', '£ 31']\n"
     ]
    }
   ],
   "source": [
    "x=re.findall(r\"(\\d*?\\.?\\d+ ?[$₹£])\",data)\n",
    "x1=re.findall(r\"([$₹£] ?\\d*\\.?\\d+)\",data)\n",
    "print(x+x1)"
   ]
  },
  {
   "cell_type": "markdown",
   "metadata": {},
   "source": [
    "### FINDING ONLY THE SYMBOLS OF CURRENCY IN TEXT"
   ]
  },
  {
   "cell_type": "code",
   "execution_count": 25,
   "metadata": {},
   "outputs": [
    {
     "name": "stdout",
     "output_type": "stream",
     "text": [
      "Total Number Of Currency Symbols In the TEXT DATA are :  4\n",
      "Types Of Currency Symbols In the TEXT DATA are :  3   {'₹', '$', '£'}\n",
      "['$', '£', '₹', '$']\n"
     ]
    }
   ],
   "source": [
    "curr=re.findall(\"([$₹£])\",data)\n",
    "print(\"Total Number Of Currency Symbols In the TEXT DATA are : \",len(curr))\n",
    "print(f\"Types Of Currency Symbols In the TEXT DATA are : \",len(set(curr)),\" \",set(curr))\n",
    "print(curr)"
   ]
  },
  {
   "cell_type": "markdown",
   "metadata": {},
   "source": [
    "### STEP 3 :-PRINTING ALL THE FORMATES OF DATES IN THE TEXT "
   ]
  },
  {
   "cell_type": "code",
   "execution_count": 26,
   "metadata": {},
   "outputs": [
    {
     "name": "stdout",
     "output_type": "stream",
     "text": [
      "The Number of dates in the format of 'mm/dd/yyyy' are :  26\n",
      "01/05/1953  12/24/1955  11/09/1956  01/11/1956  05/01/1960  12/28/1960  11/08/1961  01/12/1962  05/10/1963  05/10/1963  11/12/1966  10/04/1967  05/11/1971  08/12/1971  09/06/1972  09/06/1972  10/17/1973  01/06/1974  07/09/1974  01/03/1975  04/26/1975  03/05/1975  01/08/1975  07/08/1976  01/04/1977  06/09/1979  \n",
      "The Number of dates in the format of 'dd/mm/yyyy' are :  40\n",
      "18/06/1951  01/05/1953  22/02/1955  27/04/1955  11/09/1956  01/11/1956  05/01/1960  11/08/1961  19/12/1961  20/12/1961  01/12/1962  28/12/1962  05/10/1963  05/10/1963  20/06/1964  27/08/1966  11/12/1966  22/12/1966  10/04/1967  25/09/1969  23/12/1970  05/11/1971  08/12/1971  28/12/1971  30/12/1971  15/02/1972  29/08/1972  09/06/1972  09/06/1972  01/06/1974  19/05/1974  07/09/1974  01/03/1975  03/05/1975  01/08/1975  07/08/1976  01/04/1977  13/04/1978  06/09/1979  25/01/1980  \n",
      "The Number of dates in the format of 'dd/mm/yy' are :  2\n",
      "10/08/75  27/05/76  \n",
      "The Number of dates in the format of 'mm/dd/yy' are :  1\n",
      "10/08/75  \n"
     ]
    }
   ],
   "source": [
    "dates=re.findall(r\"((0[1-9]|1[0-2])/(0[1-9]|[12][0-9]|3[01])/(\\d{4})\\b)\",data)\n",
    "print(\"The Number of dates in the format of 'mm/dd/yyyy' are : \",len(dates))\n",
    "for i in range(len(dates)):\n",
    "    print(dates[i][0],end='  ')\n",
    "print()\n",
    "dates=re.findall(r\"((0[1-9]|[12][0-9]|3[01])/(0[1-9]|1[0-2])/(\\d{4})\\b)\",data)\n",
    "print(\"The Number of dates in the format of 'dd/mm/yyyy' are : \",len(dates))\n",
    "for i in range(len(dates)):\n",
    "    print(dates[i][0],end='  ')\n",
    "print()\n",
    "dates=re.findall(r\"((0[1-9]|[12][0-9]|3[01])/(0[1-9]|1[0-2])/(\\d{2})\\b)\",data)\n",
    "print(\"The Number of dates in the format of 'dd/mm/yy' are : \",len(dates))\n",
    "for i in range(len(dates)):\n",
    "    print(dates[i][0],end='  ')\n",
    "print()\n",
    "dates=re.findall(r\"((0[1-9]|1[0-2])/(0[1-9]|[12][0-9]|3[01])/(\\d{2})\\b)\",data)\n",
    "print(\"The Number of dates in the format of 'mm/dd/yy' are : \",len(dates))\n",
    "for i in range(len(dates)):\n",
    "    print(dates[i][0],end='  ')\n",
    "print()"
   ]
  },
  {
   "cell_type": "markdown",
   "metadata": {},
   "source": [
    "### STEP 4 :-  PRINTING ALL CARDINILITIES AND ORDERS FROM THE TEXT"
   ]
  },
  {
   "cell_type": "code",
   "execution_count": 27,
   "metadata": {},
   "outputs": [
    {
     "name": "stdout",
     "output_type": "stream",
     "text": [
      "The cardinilites and orders present in the data are :\n",
      " ['first', '1st', '2nd', '3rd', '4th', '5th', '6th', '7th', '8th', '9th', '10th', '11th', '12th', '13th', '14th', '15th', '16th', '17th', '18th', '19th', '20th', '21st', '22nd', '23rd', '24th', '25th', '26th', '27th', '28th', '29th', '30th', '31st', '32nd', '33rd', '34th', '35th', '36th', '37th', '38th', '39th', '40th', '41st', '42nd', '43rd', '44th', '45th']\n"
     ]
    }
   ],
   "source": [
    "order=[]\n",
    "x=re.findall(r\"((first|second|third|sixth)|(thir[a-z]+(th|st|nd))|(fou[a-z]+(th|rd|st|nd))|(fif[a-z]+(th|st|nd|rd))|(fi[a-z]+th)|(six[a-z]+(th|st|nd|rd))|(sev[a-z]+(th|st|nd|rd))|(eig[a-z]+(th|st|nd|rd))|(nine[a-z]+(th|st|nd|rd))|(ten[a-z]+?(th|st|nd|rd))|(ele[a-z]+th)|(twe[a-z]+(th|st|nd|rd))|(hun[a-z]+(th|st|rd)))\",data)\n",
    "for i in range(len(x)):\n",
    "    if(x[i][0] not in order):\n",
    "        order.append(x[i][0])\n",
    "#print(order)\n",
    "orders=[]\n",
    "x1=re.findall(r\"([0-9]+(th|st|nd|rd))\",data)\n",
    "for i in range(len(x1)):\n",
    "    if(x1[i][0] not in orders):\n",
    "        orders.append(x1[i][0])\n",
    "#print(orders)\n",
    "if order or orders:\n",
    "    print(\"The cardinilites and orders present in the data are :\\n\",order+orders)\n",
    "else:\n",
    "    print(\"No CARDINILITIES AND ORDERS FOUND IN THE TEXT\")"
   ]
  },
  {
   "cell_type": "markdown",
   "metadata": {},
   "source": [
    "### STEP 5 :- PRINTING ALL 4 LETTER WORDS STARTING WITH VOWELS FROM THE TEXT "
   ]
  },
  {
   "cell_type": "code",
   "execution_count": 28,
   "metadata": {},
   "outputs": [
    {
     "name": "stdout",
     "output_type": "stream",
     "text": [
      "['upon', 'oils', 'Also', 'into', 'over', 'away', 'into', 'into', 'acts', 'East', 'acts', 'into', 'acts', 'Anti']\n",
      "Tolal number of words without repetition are :  9 \n",
      " {'away', 'upon', 'acts', 'over', 'East', 'Also', 'Anti', 'into', 'oils'}\n"
     ]
    }
   ],
   "source": [
    "four=re.findall(r\"(\\b(a|e|i|o|u|A|E|I|O|U)[a-zA-Z]{3}\\b)\",data)\n",
    "fours=[]\n",
    "if four:\n",
    "    for i in range(len(four)):\n",
    "        fours.append(four[i][0])\n",
    "    print(fours)\n",
    "    print(\"Tolal number of words without repetition are : \",len(set(fours)),\"\\n\",set(fours))\n",
    "else:\n",
    "    print(\"NO 4 LETTER WORDS STARTING WITH VOWELS FROM THE TEXT\")"
   ]
  },
  {
   "cell_type": "markdown",
   "metadata": {},
   "source": [
    "# DATA 4"
   ]
  },
  {
   "cell_type": "markdown",
   "metadata": {},
   "source": [
    "### STEP 1 :- Opening File DATA 4\n",
    "#### This TEXT file contains fluctuation of indian currency with dollar and pound daywise."
   ]
  },
  {
   "cell_type": "code",
   "execution_count": 29,
   "metadata": {},
   "outputs": [],
   "source": [
    "f=open('data4.txt')"
   ]
  },
  {
   "cell_type": "code",
   "execution_count": 30,
   "metadata": {},
   "outputs": [
    {
     "data": {
      "text/plain": [
       "'Date\\t                          US Dollar to Indian Rupee\\tLink\\n'"
      ]
     },
     "execution_count": 30,
     "metadata": {},
     "output_type": "execute_result"
    }
   ],
   "source": [
    "with open('data4.txt','r',encoding='utf-8') as f:\n",
    "    data=f.readline()\n",
    "data"
   ]
  },
  {
   "cell_type": "code",
   "execution_count": 31,
   "metadata": {},
   "outputs": [
    {
     "data": {
      "text/plain": [
       "['Date\\t                          US Dollar to Indian Rupee\\tLink\\n',\n",
       " 'Saturday 2nd April 2022\\t1 $ = 75.957 ₹\\t$ ₹ rate for 02/04/2022\\n',\n",
       " 'Friday 1st April 2022\\t                  1 $ = 75.953 ₹\\t$ ₹ rate for 01/04/2022\\n',\n",
       " 'Thursday 31st March 2022\\t1 $ = 75.910 ₹\\t$ ₹ rate for 31/03/2022\\n',\n",
       " 'Wednesday 30th March 2022\\t1 $ = 75.825 ₹\\t$ ₹ rate for 30/03/2022\\n',\n",
       " 'Tuesday 29th March 2022\\t1 $ = 75.667 ₹\\t$ ₹ rate for 29/03/2022\\n',\n",
       " 'Monday 28th March 2022\\t1 $ = 76.048 ₹\\t$ ₹ rate for 28/03/2022\\n',\n",
       " 'Sunday 27th March 2022\\t1 $ = 76.287 ₹\\t$ ₹ rate for 27/03/2022\\n',\n",
       " 'Saturday 26th March 2022\\t1 $ = 76.275 ₹\\t$ ₹ rate for 26/03/2022\\n',\n",
       " 'Friday 25th March 2022\\t1 $ = 76.276 ₹\\t$ ₹ rate for 25/03/2022\\n']"
      ]
     },
     "execution_count": 31,
     "metadata": {},
     "output_type": "execute_result"
    }
   ],
   "source": [
    "with open('data4.txt','r',encoding='utf-8') as f:\n",
    "    data=f.readlines()\n",
    "data[:10]"
   ]
  },
  {
   "cell_type": "code",
   "execution_count": 32,
   "metadata": {},
   "outputs": [
    {
     "data": {
      "text/plain": [
       "'Date\\t                          US Dollar to Indian Rupee\\tLink\\nSaturday 2nd April 2022\\t1 $ = 75.957 ₹\\t$ ₹ rate for 02/04/2022\\nFriday 1st April 2022\\t                  1 $ = 75.953 ₹\\t$ ₹ rate for 01/04/2022\\nThursday 31st March 2022\\t1 $ = 75.910 ₹\\t$ ₹ rate for 31/03/2022\\nWednesday 30th March 2022\\t1 $ = 75.825 ₹\\t$ ₹ rate for 30/03/2022\\nTuesday 29th March 2022\\t1 $ = 75.667 ₹\\t$ ₹ rate for 29/03/2022\\nMonday 28th March 2022\\t1 $ = 76.048 ₹\\t$ ₹ rate for 28/03/2022\\nSunday 27th March 2022\\t1 $ = 76.287 ₹\\t$ ₹ rate for 27/03/2022\\nSaturday 26th March 2022\\t1 $ = 76.275 ₹\\t$ ₹ rate for 26/03/2022\\nFriday 25th March 2022\\t1 $ = 76.276 ₹\\t$ ₹ rate for 25/03/2022\\nThursday 24th March 2022\\t1 $ = 76.318 ₹\\t$ ₹ rate for 24/03/2022\\nWednesday 23rd March 2022\\t1 $ = 76.545 ₹\\t$ ₹ rate for 23/03/2022\\nTuesday 22nd March 2022\\t1 $ = 76.112 ₹\\t$ ₹ rate for 03/22/2022\\nMonday 21st March 2022\\t1 $ = 76.303 ₹\\t$ ₹ rate for 21/03/2022\\nSunday 20th March 2022\\t1 $ = 75.998 ₹\\t$ ₹ rate for 20/03/2022\\nSaturday 19th March 2022\\t1 $ = 75.947 '"
      ]
     },
     "execution_count": 32,
     "metadata": {},
     "output_type": "execute_result"
    }
   ],
   "source": [
    "with open('data4.txt','r',encoding='utf-8') as f:\n",
    "    data=f.read()\n",
    "data[:1000]"
   ]
  },
  {
   "cell_type": "markdown",
   "metadata": {},
   "source": [
    "### STEP 2:- FINDING CURRENCY'S INCLUDING THE AMOUNT IN TEXT"
   ]
  },
  {
   "cell_type": "code",
   "execution_count": 33,
   "metadata": {},
   "outputs": [
    {
     "name": "stdout",
     "output_type": "stream",
     "text": [
      "['1 $', '75.957 ₹', '1 $', '75.953 ₹', '1 $', '75.910 ₹', '1 $', '75.825 ₹', '1 $', '75.667 ₹', '1 $', '76.048 ₹', '1 $', '76.287 ₹', '1 $', '76.275 ₹', '1 $', '76.276 ₹', '1 $', '76.318 ₹', '1 $', '76.545 ₹', '1 $', '76.112 ₹', '1 $', '76.303 ₹', '1 $', '75.998 ₹', '1 $', '75.947 ₹', '1 $', '75.947 ₹', '1 $', '75.966 ₹', '1 $', '76.020 ₹', '1 $', '76.260 ₹', '1 $', '76.491 ₹', '1 $', '76.753 ₹', '1 $', '76.756 ₹', '1 $', '76.759 ₹', '1 $', '76.293 ₹', '1 $', '76.106 ₹', '1 $', '76.901 ₹', '1 $', '77.067 ₹', '1 $', '76.439 ₹', '1 $', '76.416 ₹', '1 $', '76.428 ₹', '1 $', '75.877 ₹', '1 $', '75.593 ₹', '1 $', '75.782 ₹', '1 $', '75.289 ₹', '1 $', '75.035 ₹', '1 $', '75.073 ₹', '1 $', '75.053 ₹', '1 $', '75.414 ₹', '1 $', '74.663 ₹', '1 $', '74.643 ₹', '1 $', '74.822 ₹', '1 $', '74.694 ₹', '1 $', '74.685 ₹', '1 $', '74.685 ₹', '1 $', '75.090 ₹', '1 $', '74.972 ₹', '1 $', '75.199 ₹', '1 $', '75.687 ₹', '1 $', '75.448 ₹', '1 $', '75.640 ₹', '1 $', '75.643 ₹', '1 $', '75.558 ₹', '1 $', '74.811 ₹', '1 $', '74.689 ₹', '1 $', '74.649 ₹', '1 $', '74.650 ₹', '1 $', '74.645 ₹', '1 $', '74.644 ₹', '1 $', '74.651 ₹', '1 $', '74.820 ₹', '1 $', '74.763 ₹', '1 $', '74.565 ₹', '1 $', '75.033 ₹', '1 $', '75.002 ₹', '1 $', '75.000 ₹', '1 $', '75.214 ₹', '1 $', '75.029 ₹', '1 $', '74.755 ₹', '1 $', '74.640 ₹', '1 $', '74.414 ₹', '1 $', '74.423 ₹', '1 $', '74.423 ₹', '1 $', '74.437 ₹', '1 $', '74.460 ₹', '1 $', '74.617 ₹', '1 $', '74.247 ₹', '1 $', '74.270 ₹', '1 $', '74.389 ₹', '1 $', '74.159 ₹', '1 $', '73.972 ₹', '1 $', '73.810 ₹', '1 $', '73.821 ₹', '1 $', '74.056 ₹', '1 $', '74.249 ₹', '1 $', '74.232 ₹', '1 $', '74.465 ₹', '1 $', '74.424 ₹', '1 $', '74.430 ₹', '1 $', '74.529 ₹', '1 $', '74.396 ₹', '1 $', '74.505 ₹', '1 $', '74.513 ₹', '1 $', '74.511 ₹', '1 $', '74.438 ₹', '1 $', '74.558 ₹', '1 $', '74.721 ₹', '1 $', '74.980 ₹', '1 $', '75.397 ₹', '1 $', '75.118 ₹', '1 $', '75.115 ₹', '1 $', '75.066 ₹', '1 $', '75.482 ₹', '1 $', '75.685 ₹', '1 $', '75.744 ₹', '1 $', '76.017 ₹', '1 $', '76.049 ₹', '1 $', '76.313 ₹', '1 $', '76.169 ₹', '1 $', '76.230 ₹', '1 $', '76.056 ₹', '1 $', '75.827 ₹', '1 $', '75.739 ₹', '1 $', '75.717 ₹', '1 $', '75.792 ₹', '1 $', '75.593 ₹', '1 $', '75.382 ₹', '1 $', '75.407 ₹', '1 $', '75.392 ₹', '1 $', '75.266 ₹', '1 $', '75.240 ₹', '1 $', '75.315 ₹', '1 $', '74.998 ₹', '1 $', '75.023 ₹', '1 $', '74.997 ₹', '1 $', '75.068 ₹', '1 $', '75.044 ₹', '1 $', '75.051 ₹', '1 $', '75.056 ₹', '1 $', '74.541 ₹', '1 $', '74.622 ₹', '1 $', '74.439 ₹', '1 $', '74.436 ₹', '1 $', '74.312 ₹', '1 $', '74.311 ₹', '1 $', '74.310 ₹', '1 $', '74.186 ₹', '1 $', '74.290 ₹', '1 $', '74.454 ₹', '1 $', '74.414 ₹', '1 $', '74.348 ₹', '1 $', '74.357 ₹', '1 $', '74.346 ₹', '1 $', '74.332 ₹', '1 $', '74.405 ₹', '1 $', '74.165 ₹', '1 $', '73.918 ₹', '1 $', '74.196 ₹', '1 $', '74.191 ₹', '1 $', '74.191 ₹', '1 $', '74.477 ₹', '1 $', '74.423 ₹', '1 $', '74.698 ₹', '1 $', '74.848 ₹', '1 $', '74.935 ₹', '1 $', '74.929 ₹', '1 $', '74.929 ₹', '1 $', '74.778 ₹', '1 $', '75.062 ₹', '1 $', '74.889 ₹', '1 $', '75.096 ₹', '1 $', '74.991 ₹', '1 $', '75.002 ₹', '1 $', '74.999 ₹', '1 $', '74.861 ₹', '1 $', '74.831 ₹', '1 $', '75.114 ₹', '1 $', '75.234 ₹', '1 $', '75.023 ₹', '1 $', '74.938 ₹', '1 $', '75.035 ₹', '1 $', '75.007 ₹', '1 $', '75.308 ₹', '1 $', '75.490 ₹', '1 $', '75.420 ₹', '1 $', '75.133 ₹', '1 $', '75.134 ₹', '1 $', '75.309 ₹', '1 $', '74.854 ₹', '1 $', '74.768 ₹', '1 $', '74.567 ₹', '£1', '₹75.273', '£1', '₹75.3046', '£1', '₹75.2912', '£1', '₹74.7711', '£1', '₹74.1219', '£1', '₹73.4204', '£1', '₹72.9117', '£1', '₹72.9769', '£1', '₹73.0007', '£1', '₹73.0041', '£1', '₹73.1103', '£1', '₹73.1562', '£1', '₹73.7407', '£1', '₹74.2669', '£1', '₹74.4346', '£1', '₹74.4755', '£1', '₹74.4174', '£1', '₹74.4657', '£1', '₹74.865', '£1', '₹74.8082', '£1', '₹74.6817', '£1', '₹74.7032', '£1', '₹74.579', '£1', '₹74.6002', '£1', '₹74.5771', '£1', '₹74.302', '£1', '₹74.8179', '£1', '₹74.9475', '£1', '₹74.3339', '£1', '₹73.9089', '£1', '₹73.9155']\n"
     ]
    }
   ],
   "source": [
    "x=re.findall(r\"(\\d*?\\.?\\d+ ?[$₹£])\",data)\n",
    "x1=re.findall(r\"([$₹£] ?\\d*\\.?\\d+)\",data)\n",
    "print(x+x1)"
   ]
  },
  {
   "cell_type": "markdown",
   "metadata": {},
   "source": [
    "### FINDING ONLY THE SYMBOLS OF CURRENCY IN TEXT"
   ]
  },
  {
   "cell_type": "code",
   "execution_count": 34,
   "metadata": {},
   "outputs": [
    {
     "name": "stdout",
     "output_type": "stream",
     "text": [
      "Total Number Of Currency Symbols In the TEXT DATA are :  782\n",
      "Types Of Currency Symbols In the TEXT DATA are :  3   {'₹', '$', '£'}\n"
     ]
    }
   ],
   "source": [
    "curr=re.findall(\"([$₹£])\",data)\n",
    "print(\"Total Number Of Currency Symbols In the TEXT DATA are : \",len(curr))\n",
    "print(f\"Types Of Currency Symbols In the TEXT DATA are : \",len(set(curr)),\" \",set(curr))"
   ]
  },
  {
   "cell_type": "markdown",
   "metadata": {},
   "source": [
    "### STEP 3 :-PRINTING ALL THE FORMATES OF DATES IN THE TEXT "
   ]
  },
  {
   "cell_type": "code",
   "execution_count": 35,
   "metadata": {},
   "outputs": [
    {
     "name": "stdout",
     "output_type": "stream",
     "text": [
      "The Number of dates in the format of 'mm/dd/yyyy' are :  84\n",
      "02/04/2022  01/04/2022  03/22/2022  03/17/2022  12/03/2022  11/03/2022  10/03/2022  09/03/2022  08/03/2022  07/03/2022  06/03/2022  05/03/2022  04/03/2022  03/03/2022  02/03/2022  01/03/2022  12/02/2022  11/02/2022  10/02/2022  09/02/2022  08/02/2022  07/02/2022  06/02/2022  05/02/2022  04/02/2022  03/02/2022  02/02/2022  01/02/2022  12/01/2022  11/01/2022  10/01/2022  09/01/2022  08/01/2022  07/01/2022  06/01/2022  05/01/2022  04/01/2022  03/01/2022  02/01/2022  01/01/2022  12/12/2021  11/12/2021  10/12/2021  09/12/2021  08/12/2021  07/12/2021  06/12/2021  05/12/2021  04/12/2021  03/12/2021  02/12/2021  01/12/2021  12/11/2021  11/11/2021  10/11/2021  09/11/2021  08/11/2021  07/11/2021  06/11/2021  05/11/2021  04/11/2021  03/11/2021  02/11/2021  01/11/2021  12/10/2021  11/10/2021  10/10/2021  09/10/2021  08/10/2021  07/10/2021  06/10/2021  05/10/2021  01/01/2010  02/01/2010  03/01/2010  04/01/2010  05/01/2010  06/01/2010  07/01/2010  08/01/2010  09/01/2010  10/01/2010  01/11/2010  12/01/2010  \n",
      "The Number of dates in the format of 'dd/mm/yyyy' are :  209\n",
      "02/04/2022  01/04/2022  31/03/2022  30/03/2022  29/03/2022  28/03/2022  27/03/2022  26/03/2022  25/03/2022  24/03/2022  23/03/2022  21/03/2022  20/03/2022  19/03/2022  18/03/2022  16/03/2022  15/03/2022  14/03/2022  13/03/2022  12/03/2022  11/03/2022  10/03/2022  09/03/2022  08/03/2022  07/03/2022  06/03/2022  05/03/2022  04/03/2022  03/03/2022  02/03/2022  01/03/2022  28/02/2022  27/02/2022  26/02/2022  25/02/2022  24/02/2022  23/02/2022  22/02/2022  21/02/2022  20/02/2022  19/02/2022  18/02/2022  17/02/2022  16/02/2022  15/02/2022  14/02/2022  13/02/2022  12/02/2022  11/02/2022  10/02/2022  09/02/2022  08/02/2022  07/02/2022  06/02/2022  05/02/2022  04/02/2022  03/02/2022  02/02/2022  01/02/2022  31/01/2022  30/01/2022  29/01/2022  28/01/2022  27/01/2022  26/01/2022  25/01/2022  24/01/2022  23/01/2022  22/01/2022  21/01/2022  20/01/2022  19/01/2022  18/01/2022  17/01/2022  16/01/2022  15/01/2022  14/01/2022  13/01/2022  12/01/2022  11/01/2022  10/01/2022  09/01/2022  08/01/2022  07/01/2022  06/01/2022  05/01/2022  04/01/2022  03/01/2022  02/01/2022  01/01/2022  31/12/2021  30/12/2021  29/12/2021  28/12/2021  27/12/2021  26/12/2021  25/12/2021  24/12/2021  23/12/2021  22/12/2021  21/12/2021  20/12/2021  19/12/2021  18/12/2021  17/12/2021  16/12/2021  15/12/2021  14/12/2021  13/12/2021  12/12/2021  11/12/2021  10/12/2021  09/12/2021  08/12/2021  07/12/2021  06/12/2021  05/12/2021  04/12/2021  03/12/2021  02/12/2021  01/12/2021  30/11/2021  29/11/2021  28/11/2021  27/11/2021  26/11/2021  25/11/2021  24/11/2021  23/11/2021  22/11/2021  21/11/2021  20/11/2021  19/11/2021  18/11/2021  17/11/2021  16/11/2021  15/11/2021  14/11/2021  13/11/2021  12/11/2021  11/11/2021  10/11/2021  09/11/2021  08/11/2021  07/11/2021  06/11/2021  05/11/2021  04/11/2021  03/11/2021  02/11/2021  01/11/2021  31/10/2021  30/10/2021  29/10/2021  28/10/2021  27/10/2021  26/10/2021  25/10/2021  24/10/2021  23/10/2021  22/10/2021  21/10/2021  20/10/2021  19/10/2021  18/10/2021  17/10/2021  16/10/2021  15/10/2021  14/10/2021  13/10/2021  12/10/2021  11/10/2021  10/10/2021  09/10/2021  08/10/2021  07/10/2021  06/10/2021  05/10/2021  01/01/2010  02/01/2010  03/01/2010  04/01/2010  05/01/2010  06/01/2010  07/01/2010  08/01/2010  09/01/2010  10/01/2010  01/11/2010  12/01/2010  13/01/2010  14/01/2010  15/01/2010  16/01/2010  17/01/2010  18/01/2010  19/01/2010  20/01/2010  21/01/2010  22/01/2010  23/01/2010  24/01/2010  25/01/2010  26/01/2010  27/01/2010  28/01/2010  29/01/2010  30/01/2010  31/01/2010  \n",
      "The Number of dates in the format of 'dd/mm/yy' are :  0\n",
      "\n",
      "The Number of dates in the format of 'mm/dd/yy' are :  0\n",
      "\n"
     ]
    }
   ],
   "source": [
    "dates=re.findall(r\"((0[1-9]|1[0-2])/(0[1-9]|[12][0-9]|3[01])/(\\d{4})\\b)\",data)\n",
    "print(\"The Number of dates in the format of 'mm/dd/yyyy' are : \",len(dates))\n",
    "for i in range(len(dates)):\n",
    "    print(dates[i][0],end='  ')\n",
    "print()\n",
    "dates=re.findall(r\"((0[1-9]|[12][0-9]|3[01])/(0[1-9]|1[0-2])/(\\d{4})\\b)\",data)\n",
    "print(\"The Number of dates in the format of 'dd/mm/yyyy' are : \",len(dates))\n",
    "for i in range(len(dates)):\n",
    "    print(dates[i][0],end='  ')\n",
    "print()\n",
    "dates=re.findall(r\"((0[1-9]|[12][0-9]|3[01])/(0[1-9]|1[0-2])/(\\d{2})\\b)\",data)\n",
    "print(\"The Number of dates in the format of 'dd/mm/yy' are : \",len(dates))\n",
    "for i in range(len(dates)):\n",
    "    print(dates[i][0],end='  ')\n",
    "print()\n",
    "dates=re.findall(r\"((0[1-9]|1[0-2])/(0[1-9]|[12][0-9]|3[01])/(\\d{2})\\b)\",data)\n",
    "print(\"The Number of dates in the format of 'mm/dd/yy' are : \",len(dates))\n",
    "for i in range(len(dates)):\n",
    "    print(dates[i][0],end='  ')\n",
    "print()"
   ]
  },
  {
   "cell_type": "markdown",
   "metadata": {},
   "source": [
    "### STEP 4 :-  PRINTING ALL CARDINILITIES AND ORDERS FROM THE TEXT"
   ]
  },
  {
   "cell_type": "code",
   "execution_count": 36,
   "metadata": {},
   "outputs": [
    {
     "name": "stdout",
     "output_type": "stream",
     "text": [
      "The cardinilites and orders present in the data are :\n",
      " ['seventh', 'sixth', 'fifth', 'fourth', 'third', 'second', 'first', 'thirtyfirst', 'thirtirth', 'twentyninth', '2nd', '1st', '31st', '30th', '29th', '28th', '27th', '26th', '25th', '24th', '23rd', '22nd', '21st', '20th', '19th', '18th', '17th', '16th', '15th', '14th', '13th', '12th', '11th', '10th', '9th', '8th', '7th', '6th', '5th', '4th', '3rd', '23th', '22th', '21th']\n"
     ]
    }
   ],
   "source": [
    "order=[]\n",
    "x=re.findall(r\"((first|second|third|sixth)|(thir[a-z]+(th|st|nd))|(fou[a-z]+(th|rd|st|nd))|(fif[a-z]+(th|st|nd|rd))|(fi[a-z]+th)|(six[a-z]+(th|st|nd|rd))|(sev[a-z]+(th|st|nd|rd))|(eig[a-z]+(th|st|nd|rd))|(nine[a-z]+(th|st|nd|rd))|(ten[a-z]+?(th|st|nd|rd))|(ele[a-z]+th)|(twe[a-z]+(th|st|nd|rd))|(hun[a-z]+(th|st|rd)))\",data)\n",
    "for i in range(len(x)):\n",
    "    if(x[i][0] not in order):\n",
    "        order.append(x[i][0])\n",
    "#print(order)\n",
    "orders=[]\n",
    "x1=re.findall(r\"([0-9]+(th|st|nd|rd))\",data)\n",
    "for i in range(len(x1)):\n",
    "    if(x1[i][0] not in orders):\n",
    "        orders.append(x1[i][0])\n",
    "#print(orders)\n",
    "if order or orders:\n",
    "    print(\"The cardinilites and orders present in the data are :\\n\",order+orders)\n",
    "else:\n",
    "    print(\"No CARDINILITIES AND ORDERS FOUND IN THE TEXT\")"
   ]
  },
  {
   "cell_type": "markdown",
   "metadata": {},
   "source": [
    "### STEP 5 :- PRINTING ALL 4 LETTER WORDS STARTING WITH VOWELS FROM THE TEXT "
   ]
  },
  {
   "cell_type": "code",
   "execution_count": 37,
   "metadata": {},
   "outputs": [
    {
     "name": "stdout",
     "output_type": "stream",
     "text": [
      "NO 4 LETTER WORDS STARTING WITH VOWELS FROM THE TEXT\n"
     ]
    }
   ],
   "source": [
    "four=re.findall(r\"(\\b(a|e|i|o|u|A|E|I|O|U)[a-zA-Z]{3}\\b)\",data)\n",
    "fours=[]\n",
    "if four:\n",
    "    for i in range(len(four)):\n",
    "        fours.append(four[i][0])\n",
    "    print(fours)\n",
    "    print(\"Tolal number of words without repetition are : \",len(set(fours)),\"\\n\",set(fours))\n",
    "else:\n",
    "    print(\"NO 4 LETTER WORDS STARTING WITH VOWELS FROM THE TEXT\")"
   ]
  },
  {
   "cell_type": "markdown",
   "metadata": {},
   "source": [
    "# DATA 5"
   ]
  },
  {
   "cell_type": "markdown",
   "metadata": {},
   "source": [
    "### STEP 1 :- Opening File DATA 5\n",
    "#### This TEXT file contains a book about indian history."
   ]
  },
  {
   "cell_type": "code",
   "execution_count": 38,
   "metadata": {},
   "outputs": [],
   "source": [
    "f=open('data5.txt')"
   ]
  },
  {
   "cell_type": "code",
   "execution_count": 39,
   "metadata": {},
   "outputs": [
    {
     "data": {
      "text/plain": [
       "'ANCIENT INDIA\\nIndus Valley Civilization\\n• Discovered in 1921\\n• Belonged to the bronze age\\n•  An area of about 1.3 mn sq km\\n• Existed between 3300-1600 BC in three phases: early, mature and late phases\\n• Sites\\nEarly (pre-Harappan)\\nKalibangan Banawali\\nDholavira (Kutch) Rakhigarhi (Ghaggar)\\nMature (Harappan) Harappa Mohenjodaro Chanhu-daro Lothal\\nKalibangan Banawali (Hissar)\\nSutkagendor (Pakistan) Sukotada (Gujarat) Dholavira\\nRakhigarhi\\nLate phase (post-urban)\\nDholavira Rakhigarhi Bhagwanpura\\nManda (Jammu); Chandigarh, Shangol (Punjab); Daulatpur, Mitthal (Haryana); Alamgirpur. Hulas (West \\nUP)\\nsite\\nSutkagendor — Surkotada Mohenjo-daro\\nKalibangan\\nRemarkable Feature Marked by a citadel Great Bath;\\nLarge granary\\nImpressive drainage system Piece of woven cotton Mother Goddess\\nSeal of pashu-pati Grain and plough\\n• Town planning\\no Grid system\\n•  The Indus people were the earliest to produce cotton\\nAryans\\nMale dominated Pastoral\\nHorse was a significant animal\\nRig veda — Consists of 10 mandalas '"
      ]
     },
     "execution_count": 39,
     "metadata": {},
     "output_type": "execute_result"
    }
   ],
   "source": [
    "with open('data5.txt','r',encoding='utf-8') as f:\n",
    "    data=f.read()\n",
    "data[:1000]"
   ]
  },
  {
   "cell_type": "markdown",
   "metadata": {},
   "source": [
    "### STEP 2:- FINDING CURRENCY'S INCLUDING THE AMOUNT IN TEXT"
   ]
  },
  {
   "cell_type": "code",
   "execution_count": 40,
   "metadata": {},
   "outputs": [
    {
     "name": "stdout",
     "output_type": "stream",
     "text": [
      "['₹12800', '₹8190']\n"
     ]
    }
   ],
   "source": [
    "x=re.findall(r\"(\\d*?\\.?\\d+ ?[$₹£])\",data)\n",
    "x1=re.findall(r\"([$₹£] ?\\d*\\.?\\d+)\",data)\n",
    "print(x+x1)"
   ]
  },
  {
   "cell_type": "markdown",
   "metadata": {},
   "source": [
    "### STEP 3 :-PRINTING ALL THE FORMATES OF DATES IN THE TEXT "
   ]
  },
  {
   "cell_type": "code",
   "execution_count": 41,
   "metadata": {},
   "outputs": [
    {
     "name": "stdout",
     "output_type": "stream",
     "text": [
      "The Number of dates in the format of 'mm/dd/yyyy' are :  10\n",
      "07/23/1916  01/09/1915  04/13/1919  06/09/1920  01/08/1920  05/02/1922  02/12/1922  02/10/1939  05/02/1924  06/11/1924  \n",
      "The Number of dates in the format of 'dd/mm/yyyy' are :  10\n",
      "01/09/1915  06/09/1920  01/08/1920  17/11/1921  05/02/1922  02/12/1922  02/10/1939  30/03/1924  05/02/1924  06/11/1924  \n",
      "The Number of dates in the format of 'dd/mm/yy' are :  0\n",
      "\n",
      "The Number of dates in the format of 'mm/dd/yy' are :  0\n",
      "\n"
     ]
    }
   ],
   "source": [
    "dates=re.findall(r\"((0[1-9]|1[0-2])/(0[1-9]|[12][0-9]|3[01])/(\\d{4})\\b)\",data)\n",
    "print(\"The Number of dates in the format of 'mm/dd/yyyy' are : \",len(dates))\n",
    "for i in range(len(dates)):\n",
    "    print(dates[i][0],end='  ')\n",
    "print()\n",
    "dates=re.findall(r\"((0[1-9]|[12][0-9]|3[01])/(0[1-9]|1[0-2])/(\\d{4})\\b)\",data)\n",
    "print(\"The Number of dates in the format of 'dd/mm/yyyy' are : \",len(dates))\n",
    "for i in range(len(dates)):\n",
    "    print(dates[i][0],end='  ')\n",
    "print()\n",
    "dates=re.findall(r\"((0[1-9]|[12][0-9]|3[01])/(0[1-9]|1[0-2])/(\\d{2})\\b)\",data)\n",
    "print(\"The Number of dates in the format of 'dd/mm/yy' are : \",len(dates))\n",
    "for i in range(len(dates)):\n",
    "    print(dates[i][0],end='  ')\n",
    "print()\n",
    "dates=re.findall(r\"((0[1-9]|1[0-2])/(0[1-9]|[12][0-9]|3[01])/(\\d{2})\\b)\",data)\n",
    "print(\"The Number of dates in the format of 'mm/dd/yy' are : \",len(dates))\n",
    "for i in range(len(dates)):\n",
    "    print(dates[i][0],end='  ')\n",
    "print()"
   ]
  },
  {
   "cell_type": "markdown",
   "metadata": {},
   "source": [
    "### STEP 4 :-  PRINTING ALL CARDINILITIES AND ORDERS FROM THE TEXT"
   ]
  },
  {
   "cell_type": "code",
   "execution_count": 42,
   "metadata": {},
   "outputs": [
    {
     "name": "stdout",
     "output_type": "stream",
     "text": [
      "The cardinilites and orders present in the data are :\n",
      " ['first', 'second', 'fifth', 'sixth', 'nineteenth', 'third', 'sixtieth', 'fourth', 'twentieth', 'thirteenth', 'eleventh', 'twelfth', 'eighth', 'seventh', '9th', '10th', '12th', '22nd', '31st', '2nd', '8th', '3rd', '15th', '6th', '4th', '18th', '16th', '19th', '17th', '26th', '1st', '7th', '14th', '11th', '20th']\n"
     ]
    }
   ],
   "source": [
    "order=[]\n",
    "x=re.findall(r\"((first|second|third|sixth)|(thir[a-z]+(th|st|nd))|(fou[a-z]+(th|rd|st|nd))|(fif[a-z]+(th|st|nd|rd))|(fi[a-z]+th)|(six[a-z]+(th|st|nd|rd))|(sev[a-z]+(th|st|nd|rd))|(eig[a-z]+(th|st|nd|rd))|(nine[a-z]+(th|st|nd|rd))|(ten[a-z]+?(th|st|nd|rd))|(ele[a-z]+th)|(twe[a-z]+(th|st|nd|rd))|(hun[a-z]+(th|st|rd)))\",data)\n",
    "for i in range(len(x)):\n",
    "    if(x[i][0] not in order):\n",
    "        order.append(x[i][0])\n",
    "#print(order)\n",
    "orders=[]\n",
    "x1=re.findall(r\"([0-9]+(th|st|nd|rd))\",data)\n",
    "for i in range(len(x1)):\n",
    "    if(x1[i][0] not in orders):\n",
    "        orders.append(x1[i][0])\n",
    "#print(orders)\n",
    "if order or orders:\n",
    "    print(\"The cardinilites and orders present in the data are :\\n\",order+orders)\n",
    "else:\n",
    "    print(\"No CARDINILITIES AND ORDERS FOUND IN THE TEXT\")"
   ]
  },
  {
   "cell_type": "markdown",
   "metadata": {},
   "source": [
    "### STEP 5 :- PRINTING ALL 4 LETTER WORDS STARTING WITH VOWELS FROM THE TEXT "
   ]
  },
  {
   "cell_type": "code",
   "execution_count": 43,
   "metadata": {},
   "outputs": [
    {
     "name": "stdout",
     "output_type": "stream",
     "text": [
      "['area', 'Indo', 'Iran', 'into', 'Used', 'Used', 'Used', 'Anga', 'also', 'Indo', 'ever', 'Also', 'only', 'Atom', 'Atma', 'into', 'over', 'army', 'East', 'Univ', 'Univ', 'Asia', 'Arab', 'East', 'Asia', 'Asia', 'into', 'used', 'over', 'Amir', 'Each', 'Iran', 'amir', 'also', 'army', 'iqta', 'army', 'used', 'Agra', 'Adil', 'Adil', 'Abla', 'Azeb', 'arch', 'Alai', 'Agra', 'used', 'Abul', 'Agra', 'into', 'into', 'into', 'Afif', 'into', 'into', 'also', 'Agra', 'over', 'ease', 'Also', 'army', 'away', 'Alam', 'Alam', 'Alam', 'upon', 'East', 'only', 'Asaf', 'Udai', 'over', 'East', 'also', 'army', 'over', 'Iran', 'into', 'into', 'into', 'army', 'anti', 'into', 'army', 'Asia', 'only', 'over', 'aunt', 'over', 'Imad', 'Army', 'Army', 'Asia', 'army', 'army', 'used', 'over', 'also', 'Each', 'over', 'only', 'only', 'only', 'only', 'also', 'used', 'anti', 'anti', 'Only', 'army', 'army', 'into', 'also', 'Oudh', 'also', 'only', 'only', 'area', 'over', 'over', 'also', 'ones', 'each', 'also', 'into', 'into', 'away', 'only', 'ones', 'only', 'also', 'Urdu', 'East', 'urge', 'used', 'Aims', 'into', 'idea', 'only', 'acts', 'anti', 'also', 'Arya', 'idea', 'upon', 'evil', 'army', 'over', 'idea', 'over', 'Indu', 'anti', 'only', 'into', 'only', 'over', 'army', 'into', 'only', 'also', 'anti', 'over', 'even', 'also', 'also', 'used', 'also', 'used', 'also', 'Amar', 'also', 'able', 'over', 'anti', 'Ajit', 'anti', 'even', 'idea', 'Once', 'able', 'also', 'Imam', 'anti', 'Over', 'Urdu', 'into', 'idea', 'Urdu', 'also', 'into', 'into', 'each', 'over', 'used', 'Also', 'away', 'also', 'idea', 'open', 'over', 'over', 'also', 'idle', 'only', 'into', 'only', 'aims', 'open', 'used', 'Azad', 'upon', 'away', 'item', 'also', 'into', 'Asaf', 'army', 'over', 'anti', 'upon', 'into', 'Acts', 'anti', 'anti', 'also', 'over', 'over', 'used', 'away', 'over', 'othe', 'over', 'ones', 'anti', 'only', 'also', 'Even', 'anti', 'Azad', 'also', 'epic', 'into', 'Azad', 'into', 'also', 'over', 'away', 'even', 'also', 'also', 'Over', 'over', 'over', 'also', 'also', 'also', 'over', 'upon', 'even', 'idea', 'over', 'over', 'also', 'over', 'Even', 'into', 'only', 'even', 'used', 'into', 'into', 'iles', 'aced', 'only', 'into', 'also', 'also', 'also', 'into', 'each', 'only', 'also', 'also', 'once', 'only', 'irst', 'ated', 'also', 'into', 'also', 'into', 'also', 'even', 'even', 'even', 'upon', 'over', 'also', 'arms', 'also', 'Even', 'only', 'also', 'also', 'upon', 'only', 'over', 'Army', 'Ajoy', 'only', 'only', 'upIi', 'also', 'idea', 'also', 'only', 'over', 'Acts', 'Only', 'Even', 'once', 'used', 'over', 'also', 'Idea', 'also', 'only', 'also', 'also', 'idea', 'into', 'akin', 'ices', 'away', 'onIY', 'also', 'acts', 'also', 'also', 'also', 'also', 'only', 'upon', 'also', 'idea', 'open', 'also', 'open', 'open', 'ered', 'ound', 'also', 'into', 'even', 'Axis', 'over', 'Asia', 'Army', 'also', 'Azad', 'only', 'also', 'also', 'idea', 'also', 'also', 'Army', 'upon', 'Army', 'even', 'also', 'East', 'only', 'even', 'ence', 'army', 'anti', 'also', 'army', 'only', 'Usha', 'Asif', 'Asif', 'also', 'also', 'Ajoy', 'also', 'even', 'used', 'only', 'also', 'idea', 'ofto', 'over', 'Udio', 'AZAD', 'also', 'East', 'also', 'Azad', 'also', 'also', 'also', 'anti', 'away', 'army', 'used', 'also', 'also', 'only', 'also', 'army', 'also', 'awaY', 'anti', 'East', 'Asia', 'only', 'into', 'only', 'also', 'Only', 'idea', 'also', 'used', 'also', 'used', 'over', 'only', 'ugly', 'also', 'also', 'also', 'into', 'Azad', 'over', 'East', 'also', 'over', 'East', 'acts', 'each', 'Arya', 'over', 'East', 'each', 'East', 'area', 'only', 'area', 'into', 'Only', 'over', 'also', 'Asia', 'also', 'Agni', 'epic', 'into', 'Idrs', 'anti', 'anti', 'into', 'only', 'atma', 'once', 'used', 'only', 'each', 'atom', 'only', 'only', 'over', 'idea', 'into', 'each', 'only', 'only', 'also', 'evil', 'idea', 'else', 'only', 'only', 'also', 'upon', 'also', 'into', 'upon', 'Only', 'only', 'into', 'into', 'over', 'into', 'ones', 'idea', 'only', 'Indo', 'into', 'into', 'over', 'into', 'into', 'Isle', 'acts', 'each', 'also', 'even', 'each', 'also', 'into', 'ages', 'into', 'atas', 'also', 'also', 'Asia', 'East', 'away', 'each', 'Each', 'into', 'ease', 'East', 'Asia', 'Asia', 'ugly', 'also', 'over', 'open', 'Akal', 'only', 'also', 'Each', 'also', 'Adam', 'over', 'into', 'azzz', 'Arab', 'Iraq', 'Iran', 'Imam', 'Omar', 'Imam', 'only', 'Imam', 'Imam', 'Imam', 'Imam', 'used', 'used', 'Arab', 'Adam', 'Aziz', 'Ezra', 'Upon', 'Arab', 'also', 'upon', 'akin', 'Imam', 'Each', 'imam', 'oath', 'into', 'oath', 'alia', 'also', 'over', 'each', 'Arab', 'only', 'only', 'even', 'only', 'Idul', 'Idul', 'Azha', 'over', 'also', 'into', 'into', 'also', 'over', 'East', 'into', 'East', 'East', 'East', 'East', 'Acts', 'Ares', 'into', 'only', 'over', 'ever', 'into', 'Asia', 'also', 'evil', 'only', 'evil', 'only', 'also', 'into', 'only', 'ages', 'open', 'open', 'each', 'Upon', 'also', 'once', 'once', 'each', 'over', 'each', 'even', 'open', 'also', 'idol', 'over', 'Only', 'only', 'also', 'also', 'army', 'Each', 'once', 'only', 'east', 'also', 'also', 'only', 'over', 'only', 'IUCN', 'also', 'open', 'over', 'IUCN', 'over', 'into', 'Indo', 'Indo', 'Indo', 'Indo', 'Urdu', 'into', 'only', 'over', 'Indo', 'into', 'ayan', 'azzr', 'Abor', 'into', 'over', 'Indo', 'Indo', 'over', 'used', 'into', 'used', 'also', 'used', 'over', 'East', 'also', 'only', 'used', 'also', 'over', 'also', 'used', 'even', 'used', 'each', 'used', 'also', 'Only', 'URDU', 'used', 'each', 'used', 'azgc', 'over', 'also', 'also', 'over', 'erac', 'also', 'used', 'area', 'area', 'into', 'used', 'onsg', 'only', 'Each', 'onto', 'used', 'ones', 'into', 'esez', 'into', 'esem', 'also', 'also', 'into', 'used', 'only', 'also', 'East', 'Asia', 'over', 'over', 'ones', 'also', 'upon', 'used', 'idol', 'area', 'also', 'area', 'over', 'atop', 'once', 'Asia', 'each', 'each', 'also', 'over', 'each', 'only', 'used', 'used', 'also', 'even', 'also', 'also', 'idal', 'used', 'also', 'into', 'once', 'into', 'also', 'Atop', 'axes', 'also', 'also', 'only', 'away', 'Indo', 'into', 'alas', 'only', 'also', 'open', 'Imam', 'over', 'Indo', 'Indo', 'anew', 'azzz', 'also', 'also', 'arch', 'Indo', 'used', 'also', 'Alai', 'Indo', 'also', 'also', 'amla', 'only', 'also', 'only', 'arch', 'azcb', 'idea', 'used', 'arch', 'into', 'upon', 'Indo', 'also', 'also', 'acme', 'Adil', 'arts', 'adZB', 'AZax', 'Agra', 'also', 'also', 'Agra', 'also', 'only', 'also', 'also', 'used', 'Indo', 'ezzr', 'also', 'over', 'used', 'used', 'eyes', 'into', 'used', 'also', 'Iran', 'into', 'also', 'each', 'even', 'eyes', 'also', 'even', 'ezed', 'used', 'only', 'Ukil', 'Asit', 'also', 'used', 'into', 'used', 'used', 'into', 'only', 'also', 'axle', 'each', 'only', 'over', 'Each', 'akin', 'into', 'also', 'into', 'each', 'into', 'Adha', 'over', 'only', 'only', 'used', 'unit', 'azxz', 'Alap', 'over', 'Arab', 'Each', 'into', 'into', 'afap', 'over', 'Agra', 'also', 'Also', 'also', 'used', 'into', 'Urdu', 'Iran', 'Even', 'Amir', 'upon', 'over', 'over', 'each', 'even', 'each', 'also', 'also', 'into', 'into', 'Urdu', 'Aziz', 'Aziz', 'Aziz', 'also', 'azxf', 'also', 'epic', 'azra', 'also', 'used', 'also', 'also', 'also', 'idea', 'asas', 'aizz', 'into', 'azrz', 'each', 'into', 'eyes', 'each', 'Each', 'over', 'also', 'into', 'also', 'also', 'able', 'into', 'Only', 'away', 'Amma', 'also', 'even', 'into', 'epic', 'used', 'East', 'over', 'open', 'ease', 'into', 'used', 'area', 'edge', 'ilea', 'arts', 'into', 'into', 'used', 'used', 'only', 'also', 'used', 'also', 'oral', 'Oxac', 'used', 'into', 'over', 'evil', 'only', 'over', 'into', 'arac', 'Oral', 'used', 'also', 'used', 'also', 'Oval', 'eyes', 'easy', 'iron', 'arms', 'into', 'also', 'used', 'each', 'also', 'also', 'arms', 'into', 'arms', 'into', 'used', 'also', 'each', 'also', 'into', 'over', 'even', 'each', 'also', 'EIIu', 'ends', 'also', 'also', 'also', 'over', 'also', 'azzr', 'also', 'also', 'each', 'over', 'also', 'also', 'also', 'Iran', 'Ahom', 'Ahom', 'Ahom', 'open', 'also', 'also', 'also', 'only', 'also', 'epic', 'Asif', 'epic', 'Azam', 'also', 'also', 'also', 'into', 'Oral', 'arts', 'Oral', 'into', 'each', 'Iran']\n",
      "Tolal number of words without repetition are :  169 \n",
      " {'Oval', 'Udio', 'azrz', 'Imad', 'Adha', 'edge', 'Omar', 'ezzr', 'Ahom', 'also', 'unit', 'azxz', 'Udai', 'Over', 'ices', 'Abor', 'Agra', 'Asia', 'azzz', 'Adam', 'Azam', 'ends', 'anew', 'eyes', 'into', 'area', 'Univ', 'east', 'arch', 'Aziz', 'acts', 'Atom', 'azzr', 'urge', 'Ajit', 'evil', 'acme', 'aizz', 'idea', 'upon', 'idol', 'aims', 'amir', 'afap', 'alia', 'URDU', 'atop', 'Amir', 'ered', 'Upon', 'Amma', 'item', 'Akal', 'Abla', 'only', 'Isle', 'Adil', 'Ezra', 'Alam', 'Each', 'over', 'ilea', 'else', 'Arab', 'arac', 'azxf', 'onIY', 'Axis', 'Used', 'ease', 'ones', 'ofto', 'Acts', 'Alai', 'arts', 'atom', 'Army', 'able', 'Anga', 'iqta', 'open', 'iles', 'easy', 'Azha', 'Iran', 'ated', 'Idrs', 'asas', 'Asif', 'Indo', 'esez', 'ezed', 'akin', 'Usha', 'Ukil', 'ages', 'erac', 'Atma', 'Azeb', 'each', 'Asit', 'Only', 'once', 'Amar', 'arms', 'army', 'irst', 'Alap', 'Aims', 'idal', 'ound', 'used', 'onsg', 'AZax', 'ever', 'East', 'Asaf', 'Iraq', 'idle', 'ugly', 'EIIu', 'Even', 'even', 'axle', 'azra', 'Oxac', 'onto', 'adZB', 'anti', 'Idul', 'iron', 'away', 'Urdu', 'azcb', 'Afif', 'upIi', 'ence', 'AZAD', 'amla', 'Idea', 'Abul', 'Oudh', 'atma', 'Imam', 'Azad', 'aunt', 'Ares', 'Atop', 'awaY', 'Also', 'oath', 'atas', 'axes', 'othe', 'imam', 'Ajoy', 'Arya', 'alas', 'IUCN', 'Once', 'Agni', 'esem', 'oral', 'epic', 'Indu', 'aced', 'Oral', 'azgc', 'ayan'}\n"
     ]
    }
   ],
   "source": [
    "four=re.findall(r\"(\\b(a|e|i|o|u|A|E|I|O|U)[a-zA-Z]{3}\\b)\",data)\n",
    "fours=[]\n",
    "if four:\n",
    "    for i in range(len(four)):\n",
    "        fours.append(four[i][0])\n",
    "    print(fours)\n",
    "    print(\"Tolal number of words without repetition are : \",len(set(fours)),\"\\n\",set(fours))\n",
    "else:\n",
    "    print(\"NO 4 LETTER WORDS STARTING WITH VOWELS FROM THE TEXT\")"
   ]
  },
  {
   "cell_type": "code",
   "execution_count": null,
   "metadata": {},
   "outputs": [],
   "source": []
  }
 ],
 "metadata": {
  "kernelspec": {
   "display_name": "Python 3",
   "language": "python",
   "name": "python3"
  },
  "language_info": {
   "codemirror_mode": {
    "name": "ipython",
    "version": 3
   },
   "file_extension": ".py",
   "mimetype": "text/x-python",
   "name": "python",
   "nbconvert_exporter": "python",
   "pygments_lexer": "ipython3",
   "version": "3.7.4"
  }
 },
 "nbformat": 4,
 "nbformat_minor": 2
}

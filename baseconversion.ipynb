{
 "cells": [
  {
   "cell_type": "markdown",
   "metadata": {},
   "source": [
    "accepts a natural number N, such that N < 17\n",
    "prints the first fifty elements in the base N \n",
    "\n",
    "example:\n",
    "\n",
    "1)N = 2\n",
    "\n",
    "0, 1, 10, 11, 100, 101, 110, 111, 1000.....\n",
    "\n",
    "2)N = 10\n",
    "\n",
    "0, 1, 2, 3, 4, 5, 6, 7, 8, 9, 10, 11\n",
    "\n",
    "3)N = 16\n",
    "\n",
    "0, 1, 2, 3, 4, 5, 6, 7, 8, 9, A, B, C, D, E, F, 10, ....\n",
    "\n",
    "Program SHOULD not crash. Use exception handling."
   ]
  },
  {
   "cell_type": "code",
   "execution_count": 3,
   "metadata": {},
   "outputs": [
    {
     "name": "stdout",
     "output_type": "stream",
     "text": [
      "Enter the BASE :- 12\n",
      " 1 2 3 4 5 6 7 8 9 A B 10 11 12 13 14 15 16 17 18 19 1A 1B 20 21 22 23 24 25 26 27 28 29 2A 2B 30 31 32 33 34 35 36 37 38 39 3A 3B 40 41 42 "
     ]
    }
   ],
   "source": [
    "def base(digit,base):\n",
    "    base_num = \"\"\n",
    "    while digit>0:\n",
    "        dig = int(digit%base)\n",
    "        if dig<10:\n",
    "            base_num += str(dig)\n",
    "        else:\n",
    "            base_num += chr(ord('A')+dig-10)\n",
    "        digit //= base\n",
    "    base_num = base_num[::-1]\n",
    "    return base_num\n",
    "base1=int(input(\"Enter the BASE :- \"))\n",
    "if(base1<17):\n",
    "    for i in range(0,51):\n",
    "        print(base(i,base1),end=' ')\n",
    "else:\n",
    "    print(\"BASE should be in range 2-16\")"
   ]
  },
  {
   "cell_type": "code",
   "execution_count": null,
   "metadata": {},
   "outputs": [],
   "source": []
  }
 ],
 "metadata": {
  "kernelspec": {
   "display_name": "Python 3",
   "language": "python",
   "name": "python3"
  },
  "language_info": {
   "codemirror_mode": {
    "name": "ipython",
    "version": 3
   },
   "file_extension": ".py",
   "mimetype": "text/x-python",
   "name": "python",
   "nbconvert_exporter": "python",
   "pygments_lexer": "ipython3",
   "version": "3.7.4"
  }
 },
 "nbformat": 4,
 "nbformat_minor": 2
}
